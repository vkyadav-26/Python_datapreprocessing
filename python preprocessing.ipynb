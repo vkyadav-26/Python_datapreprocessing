{
 "cells": [
  {
   "cell_type": "markdown",
   "id": "dc8025f5",
   "metadata": {},
   "source": [
    "###### Preprocessing,(1) handling missing value (2)Outliers treatment (3)Label Encoding "
   ]
  },
  {
   "cell_type": "code",
   "execution_count": 1,
   "id": "e81f60ac",
   "metadata": {},
   "outputs": [
    {
     "data": {
      "text/plain": [
       "'C:\\\\Users\\\\HP\\\\Learn bay Python class'"
      ]
     },
     "execution_count": 1,
     "metadata": {},
     "output_type": "execute_result"
    }
   ],
   "source": [
    "import numpy as np\n",
    "import pandas as pd\n",
    "import matplotlib.pyplot as plt\n",
    "%matplotlib inline\n",
    "import seaborn as sns\n",
    "import os\n",
    "os.getcwd()"
   ]
  },
  {
   "cell_type": "code",
   "execution_count": 2,
   "id": "794f5f15",
   "metadata": {},
   "outputs": [
    {
     "name": "stdout",
     "output_type": "stream",
     "text": [
      "C:\\Users\\HP\\Learn bay Python class\\datasets\n"
     ]
    }
   ],
   "source": [
    "cd datasets"
   ]
  },
  {
   "cell_type": "code",
   "execution_count": 3,
   "id": "59b4fa62",
   "metadata": {},
   "outputs": [
    {
     "data": {
      "text/html": [
       "<div>\n",
       "<style scoped>\n",
       "    .dataframe tbody tr th:only-of-type {\n",
       "        vertical-align: middle;\n",
       "    }\n",
       "\n",
       "    .dataframe tbody tr th {\n",
       "        vertical-align: top;\n",
       "    }\n",
       "\n",
       "    .dataframe thead th {\n",
       "        text-align: right;\n",
       "    }\n",
       "</style>\n",
       "<table border=\"1\" class=\"dataframe\">\n",
       "  <thead>\n",
       "    <tr style=\"text-align: right;\">\n",
       "      <th></th>\n",
       "      <th>Dept</th>\n",
       "      <th>Age</th>\n",
       "      <th>Experience</th>\n",
       "      <th>Salary</th>\n",
       "      <th>Education</th>\n",
       "      <th>Projects</th>\n",
       "    </tr>\n",
       "  </thead>\n",
       "  <tbody>\n",
       "    <tr>\n",
       "      <th>0</th>\n",
       "      <td>HR</td>\n",
       "      <td>32.0</td>\n",
       "      <td>9</td>\n",
       "      <td>40000.0</td>\n",
       "      <td>Under_Graduate</td>\n",
       "      <td>0.0</td>\n",
       "    </tr>\n",
       "    <tr>\n",
       "      <th>1</th>\n",
       "      <td>HR</td>\n",
       "      <td>33.0</td>\n",
       "      <td>12</td>\n",
       "      <td>48000.0</td>\n",
       "      <td>Master</td>\n",
       "      <td>0.0</td>\n",
       "    </tr>\n",
       "    <tr>\n",
       "      <th>2</th>\n",
       "      <td>IT</td>\n",
       "      <td>35.0</td>\n",
       "      <td>12</td>\n",
       "      <td>45000.0</td>\n",
       "      <td>Master</td>\n",
       "      <td>5.0</td>\n",
       "    </tr>\n",
       "    <tr>\n",
       "      <th>3</th>\n",
       "      <td>IT</td>\n",
       "      <td>NaN</td>\n",
       "      <td>12</td>\n",
       "      <td>46000.0</td>\n",
       "      <td>Graduate</td>\n",
       "      <td>5.0</td>\n",
       "    </tr>\n",
       "    <tr>\n",
       "      <th>4</th>\n",
       "      <td>HR</td>\n",
       "      <td>34.0</td>\n",
       "      <td>11</td>\n",
       "      <td>NaN</td>\n",
       "      <td>Graduate</td>\n",
       "      <td>2.0</td>\n",
       "    </tr>\n",
       "    <tr>\n",
       "      <th>5</th>\n",
       "      <td>IT</td>\n",
       "      <td>33.0</td>\n",
       "      <td>13</td>\n",
       "      <td>42000.0</td>\n",
       "      <td>NaN</td>\n",
       "      <td>1.0</td>\n",
       "    </tr>\n",
       "    <tr>\n",
       "      <th>6</th>\n",
       "      <td>Marketing</td>\n",
       "      <td>56.0</td>\n",
       "      <td>12</td>\n",
       "      <td>39000.0</td>\n",
       "      <td>Master</td>\n",
       "      <td>NaN</td>\n",
       "    </tr>\n",
       "    <tr>\n",
       "      <th>7</th>\n",
       "      <td>HR</td>\n",
       "      <td>NaN</td>\n",
       "      <td>10</td>\n",
       "      <td>42000.0</td>\n",
       "      <td>Master</td>\n",
       "      <td>NaN</td>\n",
       "    </tr>\n",
       "    <tr>\n",
       "      <th>8</th>\n",
       "      <td>Marketing</td>\n",
       "      <td>31.0</td>\n",
       "      <td>NaN</td>\n",
       "      <td>36000.0</td>\n",
       "      <td>Under_Graduate</td>\n",
       "      <td>2.0</td>\n",
       "    </tr>\n",
       "    <tr>\n",
       "      <th>9</th>\n",
       "      <td>IT</td>\n",
       "      <td>45.0</td>\n",
       "      <td>14</td>\n",
       "      <td>NaN</td>\n",
       "      <td>Master</td>\n",
       "      <td>3.0</td>\n",
       "    </tr>\n",
       "    <tr>\n",
       "      <th>10</th>\n",
       "      <td>Sales</td>\n",
       "      <td>50.0</td>\n",
       "      <td>NaN</td>\n",
       "      <td>46000.0</td>\n",
       "      <td>Master</td>\n",
       "      <td>3.0</td>\n",
       "    </tr>\n",
       "    <tr>\n",
       "      <th>11</th>\n",
       "      <td>NaN</td>\n",
       "      <td>75.0</td>\n",
       "      <td>14</td>\n",
       "      <td>45500.0</td>\n",
       "      <td>Graduate</td>\n",
       "      <td>3.0</td>\n",
       "    </tr>\n",
       "    <tr>\n",
       "      <th>12</th>\n",
       "      <td>NaN</td>\n",
       "      <td>29.0</td>\n",
       "      <td>8.5</td>\n",
       "      <td>38000.0</td>\n",
       "      <td>NaN</td>\n",
       "      <td>3.0</td>\n",
       "    </tr>\n",
       "    <tr>\n",
       "      <th>13</th>\n",
       "      <td>HR</td>\n",
       "      <td>32.0</td>\n",
       "      <td>11</td>\n",
       "      <td>39000.0</td>\n",
       "      <td>Under_Graduate</td>\n",
       "      <td>NaN</td>\n",
       "    </tr>\n",
       "    <tr>\n",
       "      <th>14</th>\n",
       "      <td>Sales</td>\n",
       "      <td>38.0</td>\n",
       "      <td>NaN</td>\n",
       "      <td>35000.0</td>\n",
       "      <td>Master</td>\n",
       "      <td>NaN</td>\n",
       "    </tr>\n",
       "    <tr>\n",
       "      <th>15</th>\n",
       "      <td>HR</td>\n",
       "      <td>0.0</td>\n",
       "      <td>NaN</td>\n",
       "      <td>32000.0</td>\n",
       "      <td>Under_Graduate</td>\n",
       "      <td>3.0</td>\n",
       "    </tr>\n",
       "    <tr>\n",
       "      <th>16</th>\n",
       "      <td>IT</td>\n",
       "      <td>42.0</td>\n",
       "      <td>14</td>\n",
       "      <td>42000.0</td>\n",
       "      <td>Graduate</td>\n",
       "      <td>3.0</td>\n",
       "    </tr>\n",
       "    <tr>\n",
       "      <th>17</th>\n",
       "      <td>Marketing</td>\n",
       "      <td>50.0</td>\n",
       "      <td>13</td>\n",
       "      <td>39000.0</td>\n",
       "      <td>Master</td>\n",
       "      <td>3.0</td>\n",
       "    </tr>\n",
       "    <tr>\n",
       "      <th>18</th>\n",
       "      <td>HR</td>\n",
       "      <td>38.0</td>\n",
       "      <td>11</td>\n",
       "      <td>42000.0</td>\n",
       "      <td>Graduate</td>\n",
       "      <td>2.0</td>\n",
       "    </tr>\n",
       "    <tr>\n",
       "      <th>19</th>\n",
       "      <td>HR</td>\n",
       "      <td>0.0</td>\n",
       "      <td>2</td>\n",
       "      <td>22000.0</td>\n",
       "      <td>Under_Graduate</td>\n",
       "      <td>2.0</td>\n",
       "    </tr>\n",
       "    <tr>\n",
       "      <th>20</th>\n",
       "      <td>IT</td>\n",
       "      <td>52.0</td>\n",
       "      <td>35</td>\n",
       "      <td>60000.0</td>\n",
       "      <td>Master</td>\n",
       "      <td>3.0</td>\n",
       "    </tr>\n",
       "    <tr>\n",
       "      <th>21</th>\n",
       "      <td>Sales</td>\n",
       "      <td>27.0</td>\n",
       "      <td>2</td>\n",
       "      <td>23000.0</td>\n",
       "      <td>Under_Graduate</td>\n",
       "      <td>1.0</td>\n",
       "    </tr>\n",
       "    <tr>\n",
       "      <th>22</th>\n",
       "      <td>HR</td>\n",
       "      <td>42.0</td>\n",
       "      <td>12</td>\n",
       "      <td>45000.0</td>\n",
       "      <td>Graduate</td>\n",
       "      <td>2.0</td>\n",
       "    </tr>\n",
       "    <tr>\n",
       "      <th>23</th>\n",
       "      <td>HR</td>\n",
       "      <td>0.0</td>\n",
       "      <td>2</td>\n",
       "      <td>22000.0</td>\n",
       "      <td>Under_Graduate</td>\n",
       "      <td>1.0</td>\n",
       "    </tr>\n",
       "    <tr>\n",
       "      <th>24</th>\n",
       "      <td>IT</td>\n",
       "      <td>51.0</td>\n",
       "      <td>.</td>\n",
       "      <td>60000.0</td>\n",
       "      <td>Master</td>\n",
       "      <td>1.0</td>\n",
       "    </tr>\n",
       "    <tr>\n",
       "      <th>25</th>\n",
       "      <td>Sales</td>\n",
       "      <td>28.0</td>\n",
       "      <td>2</td>\n",
       "      <td>23000.0</td>\n",
       "      <td>a</td>\n",
       "      <td>1.0</td>\n",
       "    </tr>\n",
       "    <tr>\n",
       "      <th>26</th>\n",
       "      <td>Sales</td>\n",
       "      <td>29.0</td>\n",
       "      <td>%</td>\n",
       "      <td>26000.0</td>\n",
       "      <td>Under_Graduate</td>\n",
       "      <td>3.0</td>\n",
       "    </tr>\n",
       "    <tr>\n",
       "      <th>27</th>\n",
       "      <td>HR</td>\n",
       "      <td>42.0</td>\n",
       "      <td>a</td>\n",
       "      <td>45000.0</td>\n",
       "      <td>Graduate</td>\n",
       "      <td>NaN</td>\n",
       "    </tr>\n",
       "    <tr>\n",
       "      <th>28</th>\n",
       "      <td>Sales</td>\n",
       "      <td>70.0</td>\n",
       "      <td>45</td>\n",
       "      <td>90000.0</td>\n",
       "      <td>Master</td>\n",
       "      <td>NaN</td>\n",
       "    </tr>\n",
       "    <tr>\n",
       "      <th>29</th>\n",
       "      <td>HR</td>\n",
       "      <td>32.0</td>\n",
       "      <td>12</td>\n",
       "      <td>88000.0</td>\n",
       "      <td>Under_Graduate</td>\n",
       "      <td>1.0</td>\n",
       "    </tr>\n",
       "    <tr>\n",
       "      <th>30</th>\n",
       "      <td>IT</td>\n",
       "      <td>19.0</td>\n",
       "      <td>0</td>\n",
       "      <td>20000.0</td>\n",
       "      <td>Graduate</td>\n",
       "      <td>2.0</td>\n",
       "    </tr>\n",
       "    <tr>\n",
       "      <th>31</th>\n",
       "      <td>Marketing</td>\n",
       "      <td>75.0</td>\n",
       "      <td>50</td>\n",
       "      <td>39000.0</td>\n",
       "      <td>Master</td>\n",
       "      <td>1.0</td>\n",
       "    </tr>\n",
       "    <tr>\n",
       "      <th>32</th>\n",
       "      <td>HR</td>\n",
       "      <td>NaN</td>\n",
       "      <td>11</td>\n",
       "      <td>42000.0</td>\n",
       "      <td>?</td>\n",
       "      <td>2.0</td>\n",
       "    </tr>\n",
       "  </tbody>\n",
       "</table>\n",
       "</div>"
      ],
      "text/plain": [
       "         Dept   Age Experience   Salary       Education  Projects\n",
       "0          HR  32.0          9  40000.0  Under_Graduate       0.0\n",
       "1          HR  33.0         12  48000.0          Master       0.0\n",
       "2          IT  35.0         12  45000.0          Master       5.0\n",
       "3          IT   NaN         12  46000.0        Graduate       5.0\n",
       "4          HR  34.0         11      NaN        Graduate       2.0\n",
       "5          IT  33.0         13  42000.0             NaN       1.0\n",
       "6   Marketing  56.0         12  39000.0          Master       NaN\n",
       "7          HR   NaN         10  42000.0          Master       NaN\n",
       "8   Marketing  31.0        NaN  36000.0  Under_Graduate       2.0\n",
       "9          IT  45.0         14      NaN          Master       3.0\n",
       "10      Sales  50.0        NaN  46000.0          Master       3.0\n",
       "11        NaN  75.0         14  45500.0        Graduate       3.0\n",
       "12        NaN  29.0        8.5  38000.0             NaN       3.0\n",
       "13         HR  32.0         11  39000.0  Under_Graduate       NaN\n",
       "14      Sales  38.0        NaN  35000.0          Master       NaN\n",
       "15         HR   0.0        NaN  32000.0  Under_Graduate       3.0\n",
       "16         IT  42.0         14  42000.0        Graduate       3.0\n",
       "17  Marketing  50.0         13  39000.0          Master       3.0\n",
       "18         HR  38.0         11  42000.0        Graduate       2.0\n",
       "19         HR   0.0          2  22000.0  Under_Graduate       2.0\n",
       "20         IT  52.0         35  60000.0          Master       3.0\n",
       "21      Sales  27.0          2  23000.0  Under_Graduate       1.0\n",
       "22         HR  42.0         12  45000.0        Graduate       2.0\n",
       "23         HR   0.0          2  22000.0  Under_Graduate       1.0\n",
       "24         IT  51.0          .  60000.0          Master       1.0\n",
       "25      Sales  28.0          2  23000.0               a       1.0\n",
       "26      Sales  29.0          %  26000.0  Under_Graduate       3.0\n",
       "27         HR  42.0          a  45000.0        Graduate       NaN\n",
       "28      Sales  70.0         45  90000.0          Master       NaN\n",
       "29         HR  32.0         12  88000.0  Under_Graduate       1.0\n",
       "30         IT  19.0          0  20000.0        Graduate       2.0\n",
       "31  Marketing  75.0         50  39000.0          Master       1.0\n",
       "32         HR   NaN         11  42000.0               ?       2.0"
      ]
     },
     "execution_count": 3,
     "metadata": {},
     "output_type": "execute_result"
    }
   ],
   "source": [
    "df=pd.read_excel(\"data_preprocessing.xlsx\")\n",
    "df.head(100)"
   ]
  },
  {
   "cell_type": "code",
   "execution_count": 4,
   "id": "2f16bb59",
   "metadata": {},
   "outputs": [
    {
     "name": "stdout",
     "output_type": "stream",
     "text": [
      "<class 'pandas.core.frame.DataFrame'>\n",
      "RangeIndex: 33 entries, 0 to 32\n",
      "Data columns (total 6 columns):\n",
      " #   Column      Non-Null Count  Dtype  \n",
      "---  ------      --------------  -----  \n",
      " 0   Dept        31 non-null     object \n",
      " 1   Age         30 non-null     float64\n",
      " 2   Experience  29 non-null     object \n",
      " 3   Salary      31 non-null     float64\n",
      " 4   Education   31 non-null     object \n",
      " 5   Projects    27 non-null     float64\n",
      "dtypes: float64(3), object(3)\n",
      "memory usage: 1.7+ KB\n"
     ]
    }
   ],
   "source": [
    "df.info()"
   ]
  },
  {
   "cell_type": "code",
   "execution_count": 5,
   "id": "61d028e3",
   "metadata": {},
   "outputs": [
    {
     "data": {
      "text/html": [
       "<div>\n",
       "<style scoped>\n",
       "    .dataframe tbody tr th:only-of-type {\n",
       "        vertical-align: middle;\n",
       "    }\n",
       "\n",
       "    .dataframe tbody tr th {\n",
       "        vertical-align: top;\n",
       "    }\n",
       "\n",
       "    .dataframe thead th {\n",
       "        text-align: right;\n",
       "    }\n",
       "</style>\n",
       "<table border=\"1\" class=\"dataframe\">\n",
       "  <thead>\n",
       "    <tr style=\"text-align: right;\">\n",
       "      <th></th>\n",
       "      <th>Age</th>\n",
       "      <th>Salary</th>\n",
       "      <th>Projects</th>\n",
       "    </tr>\n",
       "  </thead>\n",
       "  <tbody>\n",
       "    <tr>\n",
       "      <th>count</th>\n",
       "      <td>30.000000</td>\n",
       "      <td>31.000000</td>\n",
       "      <td>27.000000</td>\n",
       "    </tr>\n",
       "    <tr>\n",
       "      <th>mean</th>\n",
       "      <td>37.333333</td>\n",
       "      <td>41983.870968</td>\n",
       "      <td>2.148148</td>\n",
       "    </tr>\n",
       "    <tr>\n",
       "      <th>std</th>\n",
       "      <td>18.690461</td>\n",
       "      <td>15998.168578</td>\n",
       "      <td>1.261980</td>\n",
       "    </tr>\n",
       "    <tr>\n",
       "      <th>min</th>\n",
       "      <td>0.000000</td>\n",
       "      <td>20000.000000</td>\n",
       "      <td>0.000000</td>\n",
       "    </tr>\n",
       "    <tr>\n",
       "      <th>25%</th>\n",
       "      <td>29.500000</td>\n",
       "      <td>35500.000000</td>\n",
       "      <td>1.000000</td>\n",
       "    </tr>\n",
       "    <tr>\n",
       "      <th>50%</th>\n",
       "      <td>34.500000</td>\n",
       "      <td>42000.000000</td>\n",
       "      <td>2.000000</td>\n",
       "    </tr>\n",
       "    <tr>\n",
       "      <th>75%</th>\n",
       "      <td>48.750000</td>\n",
       "      <td>45250.000000</td>\n",
       "      <td>3.000000</td>\n",
       "    </tr>\n",
       "    <tr>\n",
       "      <th>max</th>\n",
       "      <td>75.000000</td>\n",
       "      <td>90000.000000</td>\n",
       "      <td>5.000000</td>\n",
       "    </tr>\n",
       "  </tbody>\n",
       "</table>\n",
       "</div>"
      ],
      "text/plain": [
       "             Age        Salary   Projects\n",
       "count  30.000000     31.000000  27.000000\n",
       "mean   37.333333  41983.870968   2.148148\n",
       "std    18.690461  15998.168578   1.261980\n",
       "min     0.000000  20000.000000   0.000000\n",
       "25%    29.500000  35500.000000   1.000000\n",
       "50%    34.500000  42000.000000   2.000000\n",
       "75%    48.750000  45250.000000   3.000000\n",
       "max    75.000000  90000.000000   5.000000"
      ]
     },
     "execution_count": 5,
     "metadata": {},
     "output_type": "execute_result"
    }
   ],
   "source": [
    "df.describe()"
   ]
  },
  {
   "cell_type": "code",
   "execution_count": 6,
   "id": "54fb61d9",
   "metadata": {},
   "outputs": [
    {
     "data": {
      "text/html": [
       "<div>\n",
       "<style scoped>\n",
       "    .dataframe tbody tr th:only-of-type {\n",
       "        vertical-align: middle;\n",
       "    }\n",
       "\n",
       "    .dataframe tbody tr th {\n",
       "        vertical-align: top;\n",
       "    }\n",
       "\n",
       "    .dataframe thead th {\n",
       "        text-align: right;\n",
       "    }\n",
       "</style>\n",
       "<table border=\"1\" class=\"dataframe\">\n",
       "  <thead>\n",
       "    <tr style=\"text-align: right;\">\n",
       "      <th></th>\n",
       "      <th>Dept</th>\n",
       "      <th>Experience</th>\n",
       "      <th>Education</th>\n",
       "    </tr>\n",
       "  </thead>\n",
       "  <tbody>\n",
       "    <tr>\n",
       "      <th>count</th>\n",
       "      <td>31</td>\n",
       "      <td>29</td>\n",
       "      <td>31</td>\n",
       "    </tr>\n",
       "    <tr>\n",
       "      <th>unique</th>\n",
       "      <td>4</td>\n",
       "      <td>15</td>\n",
       "      <td>5</td>\n",
       "    </tr>\n",
       "    <tr>\n",
       "      <th>top</th>\n",
       "      <td>HR</td>\n",
       "      <td>12</td>\n",
       "      <td>Master</td>\n",
       "    </tr>\n",
       "    <tr>\n",
       "      <th>freq</th>\n",
       "      <td>13</td>\n",
       "      <td>6</td>\n",
       "      <td>12</td>\n",
       "    </tr>\n",
       "  </tbody>\n",
       "</table>\n",
       "</div>"
      ],
      "text/plain": [
       "       Dept  Experience Education\n",
       "count    31          29        31\n",
       "unique    4          15         5\n",
       "top      HR          12    Master\n",
       "freq     13           6        12"
      ]
     },
     "execution_count": 6,
     "metadata": {},
     "output_type": "execute_result"
    }
   ],
   "source": [
    "df.describe(include=\"O\")"
   ]
  },
  {
   "cell_type": "code",
   "execution_count": 7,
   "id": "3bf799ac",
   "metadata": {},
   "outputs": [],
   "source": [
    "# finding the missing value"
   ]
  },
  {
   "cell_type": "code",
   "execution_count": 8,
   "id": "b3f58d7b",
   "metadata": {},
   "outputs": [
    {
     "data": {
      "text/plain": [
       "Dept          2\n",
       "Age           3\n",
       "Experience    4\n",
       "Salary        2\n",
       "Education     2\n",
       "Projects      6\n",
       "dtype: int64"
      ]
     },
     "execution_count": 8,
     "metadata": {},
     "output_type": "execute_result"
    }
   ],
   "source": [
    "df.isnull().sum()"
   ]
  },
  {
   "cell_type": "code",
   "execution_count": 9,
   "id": "a7789ff3",
   "metadata": {},
   "outputs": [
    {
     "data": {
      "text/plain": [
       "19"
      ]
     },
     "execution_count": 9,
     "metadata": {},
     "output_type": "execute_result"
    }
   ],
   "source": [
    "df.isnull().sum().sum()"
   ]
  },
  {
   "cell_type": "code",
   "execution_count": 10,
   "id": "9e9ae75c",
   "metadata": {},
   "outputs": [
    {
     "data": {
      "text/plain": [
       "Dept          True\n",
       "Age           True\n",
       "Experience    True\n",
       "Salary        True\n",
       "Education     True\n",
       "Projects      True\n",
       "dtype: bool"
      ]
     },
     "execution_count": 10,
     "metadata": {},
     "output_type": "execute_result"
    }
   ],
   "source": [
    "df.isnull().any()"
   ]
  },
  {
   "cell_type": "code",
   "execution_count": 11,
   "id": "0263c807",
   "metadata": {},
   "outputs": [
    {
     "data": {
      "text/plain": [
       "Dept           6.060606\n",
       "Age            9.090909\n",
       "Experience    12.121212\n",
       "Salary         6.060606\n",
       "Education      6.060606\n",
       "Projects      18.181818\n",
       "dtype: float64"
      ]
     },
     "execution_count": 11,
     "metadata": {},
     "output_type": "execute_result"
    }
   ],
   "source": [
    "# calclate the percentage of missing value\n",
    "df.isnull().sum()/len(df)*100"
   ]
  },
  {
   "cell_type": "code",
   "execution_count": 12,
   "id": "301b6ebc",
   "metadata": {},
   "outputs": [],
   "source": [
    "df1=df.copy()"
   ]
  },
  {
   "cell_type": "code",
   "execution_count": 13,
   "id": "97de48fb",
   "metadata": {},
   "outputs": [
    {
     "name": "stdout",
     "output_type": "stream",
     "text": [
      "<class 'pandas.core.frame.DataFrame'>\n",
      "RangeIndex: 33 entries, 0 to 32\n",
      "Data columns (total 6 columns):\n",
      " #   Column      Non-Null Count  Dtype  \n",
      "---  ------      --------------  -----  \n",
      " 0   Dept        31 non-null     object \n",
      " 1   Age         30 non-null     float64\n",
      " 2   Experience  29 non-null     object \n",
      " 3   Salary      31 non-null     float64\n",
      " 4   Education   31 non-null     object \n",
      " 5   Projects    27 non-null     float64\n",
      "dtypes: float64(3), object(3)\n",
      "memory usage: 1.7+ KB\n"
     ]
    }
   ],
   "source": [
    "df1.info()"
   ]
  },
  {
   "cell_type": "code",
   "execution_count": 14,
   "id": "b6c36a6b",
   "metadata": {},
   "outputs": [],
   "source": [
    "# using mean/median approach handing misisng value Age column"
   ]
  },
  {
   "cell_type": "code",
   "execution_count": 15,
   "id": "395fbcdb",
   "metadata": {},
   "outputs": [],
   "source": [
    "df1[\"Age\"]=df1[\"Age\"].fillna(df1[\"Age\"].mean())"
   ]
  },
  {
   "cell_type": "code",
   "execution_count": 16,
   "id": "385cf501",
   "metadata": {},
   "outputs": [
    {
     "name": "stdout",
     "output_type": "stream",
     "text": [
      "<class 'pandas.core.frame.DataFrame'>\n",
      "RangeIndex: 33 entries, 0 to 32\n",
      "Data columns (total 6 columns):\n",
      " #   Column      Non-Null Count  Dtype  \n",
      "---  ------      --------------  -----  \n",
      " 0   Dept        31 non-null     object \n",
      " 1   Age         33 non-null     float64\n",
      " 2   Experience  29 non-null     object \n",
      " 3   Salary      31 non-null     float64\n",
      " 4   Education   31 non-null     object \n",
      " 5   Projects    27 non-null     float64\n",
      "dtypes: float64(3), object(3)\n",
      "memory usage: 1.7+ KB\n"
     ]
    }
   ],
   "source": [
    "df1.info()"
   ]
  },
  {
   "cell_type": "code",
   "execution_count": 17,
   "id": "c1d82f17",
   "metadata": {},
   "outputs": [],
   "source": [
    "# for median approach\n",
    "#df1[\"Age\"]=df1[\"Age\"].fillna(df1[\"Age\"].median())"
   ]
  },
  {
   "cell_type": "code",
   "execution_count": 18,
   "id": "a35130c8",
   "metadata": {},
   "outputs": [],
   "source": [
    "# Handling missing value in Salary column"
   ]
  },
  {
   "cell_type": "code",
   "execution_count": 19,
   "id": "883530b3",
   "metadata": {},
   "outputs": [],
   "source": [
    "df1[\"Salary\"]=df1[\"Salary\"].fillna(df1[\"Salary\"].median())"
   ]
  },
  {
   "cell_type": "code",
   "execution_count": 20,
   "id": "2bae72ce",
   "metadata": {},
   "outputs": [
    {
     "name": "stdout",
     "output_type": "stream",
     "text": [
      "<class 'pandas.core.frame.DataFrame'>\n",
      "RangeIndex: 33 entries, 0 to 32\n",
      "Data columns (total 6 columns):\n",
      " #   Column      Non-Null Count  Dtype  \n",
      "---  ------      --------------  -----  \n",
      " 0   Dept        31 non-null     object \n",
      " 1   Age         33 non-null     float64\n",
      " 2   Experience  29 non-null     object \n",
      " 3   Salary      33 non-null     float64\n",
      " 4   Education   31 non-null     object \n",
      " 5   Projects    27 non-null     float64\n",
      "dtypes: float64(3), object(3)\n",
      "memory usage: 1.7+ KB\n"
     ]
    }
   ],
   "source": [
    "df1.info()"
   ]
  },
  {
   "cell_type": "code",
   "execution_count": 21,
   "id": "fee81ed1",
   "metadata": {},
   "outputs": [
    {
     "data": {
      "text/html": [
       "<div>\n",
       "<style scoped>\n",
       "    .dataframe tbody tr th:only-of-type {\n",
       "        vertical-align: middle;\n",
       "    }\n",
       "\n",
       "    .dataframe tbody tr th {\n",
       "        vertical-align: top;\n",
       "    }\n",
       "\n",
       "    .dataframe thead th {\n",
       "        text-align: right;\n",
       "    }\n",
       "</style>\n",
       "<table border=\"1\" class=\"dataframe\">\n",
       "  <thead>\n",
       "    <tr style=\"text-align: right;\">\n",
       "      <th></th>\n",
       "      <th>Dept</th>\n",
       "      <th>Age</th>\n",
       "      <th>Experience</th>\n",
       "      <th>Salary</th>\n",
       "      <th>Education</th>\n",
       "      <th>Projects</th>\n",
       "    </tr>\n",
       "  </thead>\n",
       "  <tbody>\n",
       "    <tr>\n",
       "      <th>0</th>\n",
       "      <td>HR</td>\n",
       "      <td>32.000000</td>\n",
       "      <td>9</td>\n",
       "      <td>40000.0</td>\n",
       "      <td>Under_Graduate</td>\n",
       "      <td>0.0</td>\n",
       "    </tr>\n",
       "    <tr>\n",
       "      <th>1</th>\n",
       "      <td>HR</td>\n",
       "      <td>33.000000</td>\n",
       "      <td>12</td>\n",
       "      <td>48000.0</td>\n",
       "      <td>Master</td>\n",
       "      <td>0.0</td>\n",
       "    </tr>\n",
       "    <tr>\n",
       "      <th>2</th>\n",
       "      <td>IT</td>\n",
       "      <td>35.000000</td>\n",
       "      <td>12</td>\n",
       "      <td>45000.0</td>\n",
       "      <td>Master</td>\n",
       "      <td>5.0</td>\n",
       "    </tr>\n",
       "    <tr>\n",
       "      <th>3</th>\n",
       "      <td>IT</td>\n",
       "      <td>37.333333</td>\n",
       "      <td>12</td>\n",
       "      <td>46000.0</td>\n",
       "      <td>Graduate</td>\n",
       "      <td>5.0</td>\n",
       "    </tr>\n",
       "    <tr>\n",
       "      <th>4</th>\n",
       "      <td>HR</td>\n",
       "      <td>34.000000</td>\n",
       "      <td>11</td>\n",
       "      <td>42000.0</td>\n",
       "      <td>Graduate</td>\n",
       "      <td>2.0</td>\n",
       "    </tr>\n",
       "  </tbody>\n",
       "</table>\n",
       "</div>"
      ],
      "text/plain": [
       "  Dept        Age Experience   Salary       Education  Projects\n",
       "0   HR  32.000000          9  40000.0  Under_Graduate       0.0\n",
       "1   HR  33.000000         12  48000.0          Master       0.0\n",
       "2   IT  35.000000         12  45000.0          Master       5.0\n",
       "3   IT  37.333333         12  46000.0        Graduate       5.0\n",
       "4   HR  34.000000         11  42000.0        Graduate       2.0"
      ]
     },
     "execution_count": 21,
     "metadata": {},
     "output_type": "execute_result"
    }
   ],
   "source": [
    "df1.head()"
   ]
  },
  {
   "cell_type": "code",
   "execution_count": 22,
   "id": "9da329aa",
   "metadata": {},
   "outputs": [],
   "source": [
    "#df1[\"Experience\"]=df1[\"Experience\"].fillna(df1[\"Experience\"].median())"
   ]
  },
  {
   "cell_type": "code",
   "execution_count": 23,
   "id": "c96ca89a",
   "metadata": {},
   "outputs": [
    {
     "data": {
      "text/plain": [
       "dtype('O')"
      ]
     },
     "execution_count": 23,
     "metadata": {},
     "output_type": "execute_result"
    }
   ],
   "source": [
    "df1[\"Experience\"].dtype"
   ]
  },
  {
   "cell_type": "code",
   "execution_count": 24,
   "id": "c6a9f268",
   "metadata": {},
   "outputs": [
    {
     "data": {
      "text/plain": [
       "4"
      ]
     },
     "execution_count": 24,
     "metadata": {},
     "output_type": "execute_result"
    }
   ],
   "source": [
    "df1[\"Experience\"].isnull().sum()"
   ]
  },
  {
   "cell_type": "code",
   "execution_count": 25,
   "id": "8bdc8f43",
   "metadata": {},
   "outputs": [],
   "source": [
    "# lets try to convert the experience column( Object) to numeric type"
   ]
  },
  {
   "cell_type": "code",
   "execution_count": 26,
   "id": "860c9c2f",
   "metadata": {},
   "outputs": [],
   "source": [
    "#df1[\"Experience\"]=pd.to_numeric(df1[\"Experience\"])"
   ]
  },
  {
   "cell_type": "code",
   "execution_count": 27,
   "id": "6daf5bd6",
   "metadata": {},
   "outputs": [],
   "source": [
    "df1[\"Experience\"].mask((df1[\"Experience\"].eq(\".\")),inplace=True)"
   ]
  },
  {
   "cell_type": "code",
   "execution_count": 28,
   "id": "ee0d6581",
   "metadata": {},
   "outputs": [
    {
     "data": {
      "text/plain": [
       "5"
      ]
     },
     "execution_count": 28,
     "metadata": {},
     "output_type": "execute_result"
    }
   ],
   "source": [
    "df1[\"Experience\"].isnull().sum()"
   ]
  },
  {
   "cell_type": "code",
   "execution_count": 29,
   "id": "3d973589",
   "metadata": {},
   "outputs": [
    {
     "data": {
      "text/plain": [
       "dtype('O')"
      ]
     },
     "execution_count": 29,
     "metadata": {},
     "output_type": "execute_result"
    }
   ],
   "source": [
    "df1[\"Experience\"].dtype"
   ]
  },
  {
   "cell_type": "code",
   "execution_count": 30,
   "id": "fef36d49",
   "metadata": {},
   "outputs": [],
   "source": [
    "#df1[\"Experience\"]=df1[\"Experience\"].fillna(df1[\"Experience\"].median())"
   ]
  },
  {
   "cell_type": "code",
   "execution_count": 31,
   "id": "cf889bb4",
   "metadata": {},
   "outputs": [],
   "source": [
    "#df1[\"Experience\"]=pd.to_numeric(df1[\"Experience\"])"
   ]
  },
  {
   "cell_type": "code",
   "execution_count": 32,
   "id": "b0548a56",
   "metadata": {},
   "outputs": [],
   "source": [
    "df1[\"Experience\"].mask((df1[\"Experience\"].eq(\"%\")),inplace=True)"
   ]
  },
  {
   "cell_type": "code",
   "execution_count": 33,
   "id": "6932c032",
   "metadata": {},
   "outputs": [
    {
     "data": {
      "text/plain": [
       "6"
      ]
     },
     "execution_count": 33,
     "metadata": {},
     "output_type": "execute_result"
    }
   ],
   "source": [
    "df1[\"Experience\"].isnull().sum()"
   ]
  },
  {
   "cell_type": "code",
   "execution_count": 34,
   "id": "41bc7876",
   "metadata": {},
   "outputs": [
    {
     "data": {
      "text/plain": [
       "dtype('O')"
      ]
     },
     "execution_count": 34,
     "metadata": {},
     "output_type": "execute_result"
    }
   ],
   "source": [
    "df1[\"Experience\"].dtype"
   ]
  },
  {
   "cell_type": "code",
   "execution_count": 35,
   "id": "ceca321b",
   "metadata": {},
   "outputs": [],
   "source": [
    "df1[\"Experience\"].mask((df1[\"Experience\"].eq(\"a\")),inplace=True)"
   ]
  },
  {
   "cell_type": "code",
   "execution_count": 36,
   "id": "533b19fc",
   "metadata": {},
   "outputs": [
    {
     "data": {
      "text/plain": [
       "dtype('O')"
      ]
     },
     "execution_count": 36,
     "metadata": {},
     "output_type": "execute_result"
    }
   ],
   "source": [
    "df1[\"Experience\"].dtype"
   ]
  },
  {
   "cell_type": "code",
   "execution_count": 37,
   "id": "57f40389",
   "metadata": {},
   "outputs": [],
   "source": [
    "df1[\"Experience\"]=pd.to_numeric(df1[\"Experience\"])"
   ]
  },
  {
   "cell_type": "code",
   "execution_count": 38,
   "id": "bb7d7845",
   "metadata": {},
   "outputs": [
    {
     "data": {
      "text/plain": [
       "7"
      ]
     },
     "execution_count": 38,
     "metadata": {},
     "output_type": "execute_result"
    }
   ],
   "source": [
    "df1[\"Experience\"].isnull().sum()"
   ]
  },
  {
   "cell_type": "code",
   "execution_count": 39,
   "id": "cfcc5c03",
   "metadata": {},
   "outputs": [
    {
     "data": {
      "text/plain": [
       "dtype('float64')"
      ]
     },
     "execution_count": 39,
     "metadata": {},
     "output_type": "execute_result"
    }
   ],
   "source": [
    "df1[\"Experience\"].dtype"
   ]
  },
  {
   "cell_type": "code",
   "execution_count": 40,
   "id": "3dd551aa",
   "metadata": {},
   "outputs": [],
   "source": [
    "df1[\"Experience\"]=df1[\"Experience\"].fillna(df1[\"Experience\"].median())"
   ]
  },
  {
   "cell_type": "code",
   "execution_count": 41,
   "id": "38931e0d",
   "metadata": {},
   "outputs": [
    {
     "name": "stdout",
     "output_type": "stream",
     "text": [
      "<class 'pandas.core.frame.DataFrame'>\n",
      "RangeIndex: 33 entries, 0 to 32\n",
      "Data columns (total 6 columns):\n",
      " #   Column      Non-Null Count  Dtype  \n",
      "---  ------      --------------  -----  \n",
      " 0   Dept        31 non-null     object \n",
      " 1   Age         33 non-null     float64\n",
      " 2   Experience  33 non-null     float64\n",
      " 3   Salary      33 non-null     float64\n",
      " 4   Education   31 non-null     object \n",
      " 5   Projects    27 non-null     float64\n",
      "dtypes: float64(4), object(2)\n",
      "memory usage: 1.7+ KB\n"
     ]
    }
   ],
   "source": [
    "df1.info()"
   ]
  },
  {
   "cell_type": "code",
   "execution_count": 42,
   "id": "9c5f0711",
   "metadata": {},
   "outputs": [],
   "source": [
    "df1[\"Projects\"]=df1[\"Projects\"].fillna(df1[\"Projects\"].mean())"
   ]
  },
  {
   "cell_type": "code",
   "execution_count": 43,
   "id": "d1090cd7",
   "metadata": {},
   "outputs": [
    {
     "name": "stdout",
     "output_type": "stream",
     "text": [
      "<class 'pandas.core.frame.DataFrame'>\n",
      "RangeIndex: 33 entries, 0 to 32\n",
      "Data columns (total 6 columns):\n",
      " #   Column      Non-Null Count  Dtype  \n",
      "---  ------      --------------  -----  \n",
      " 0   Dept        31 non-null     object \n",
      " 1   Age         33 non-null     float64\n",
      " 2   Experience  33 non-null     float64\n",
      " 3   Salary      33 non-null     float64\n",
      " 4   Education   31 non-null     object \n",
      " 5   Projects    33 non-null     float64\n",
      "dtypes: float64(4), object(2)\n",
      "memory usage: 1.7+ KB\n"
     ]
    }
   ],
   "source": [
    "df1.info()"
   ]
  },
  {
   "cell_type": "code",
   "execution_count": 44,
   "id": "a76c433f",
   "metadata": {},
   "outputs": [],
   "source": [
    "# we can handle the missing value in categorical variable with Mode approach"
   ]
  },
  {
   "cell_type": "code",
   "execution_count": 45,
   "id": "52740a75",
   "metadata": {},
   "outputs": [],
   "source": [
    "df1[\"Dept\"]=df1[\"Dept\"].fillna(df1[\"Dept\"].mode())"
   ]
  },
  {
   "cell_type": "code",
   "execution_count": 46,
   "id": "ecdcbafd",
   "metadata": {},
   "outputs": [
    {
     "name": "stdout",
     "output_type": "stream",
     "text": [
      "<class 'pandas.core.frame.DataFrame'>\n",
      "RangeIndex: 33 entries, 0 to 32\n",
      "Data columns (total 6 columns):\n",
      " #   Column      Non-Null Count  Dtype  \n",
      "---  ------      --------------  -----  \n",
      " 0   Dept        31 non-null     object \n",
      " 1   Age         33 non-null     float64\n",
      " 2   Experience  33 non-null     float64\n",
      " 3   Salary      33 non-null     float64\n",
      " 4   Education   31 non-null     object \n",
      " 5   Projects    33 non-null     float64\n",
      "dtypes: float64(4), object(2)\n",
      "memory usage: 1.7+ KB\n"
     ]
    }
   ],
   "source": [
    "df1.info()"
   ]
  },
  {
   "cell_type": "code",
   "execution_count": 47,
   "id": "e13ced18",
   "metadata": {},
   "outputs": [],
   "source": [
    "df1[\"Dept\"]=df1[\"Dept\"].fillna(df1[\"Dept\"].mode()[0])"
   ]
  },
  {
   "cell_type": "code",
   "execution_count": 48,
   "id": "595db72d",
   "metadata": {},
   "outputs": [
    {
     "name": "stdout",
     "output_type": "stream",
     "text": [
      "<class 'pandas.core.frame.DataFrame'>\n",
      "RangeIndex: 33 entries, 0 to 32\n",
      "Data columns (total 6 columns):\n",
      " #   Column      Non-Null Count  Dtype  \n",
      "---  ------      --------------  -----  \n",
      " 0   Dept        33 non-null     object \n",
      " 1   Age         33 non-null     float64\n",
      " 2   Experience  33 non-null     float64\n",
      " 3   Salary      33 non-null     float64\n",
      " 4   Education   31 non-null     object \n",
      " 5   Projects    33 non-null     float64\n",
      "dtypes: float64(4), object(2)\n",
      "memory usage: 1.7+ KB\n"
     ]
    }
   ],
   "source": [
    "df1.info()"
   ]
  },
  {
   "cell_type": "code",
   "execution_count": 49,
   "id": "3d6956bb",
   "metadata": {},
   "outputs": [],
   "source": [
    "df1[\"Education\"]=df1[\"Education\"].fillna(df1[\"Education\"].mode()[0])"
   ]
  },
  {
   "cell_type": "code",
   "execution_count": 50,
   "id": "60f62881",
   "metadata": {},
   "outputs": [
    {
     "name": "stdout",
     "output_type": "stream",
     "text": [
      "<class 'pandas.core.frame.DataFrame'>\n",
      "RangeIndex: 33 entries, 0 to 32\n",
      "Data columns (total 6 columns):\n",
      " #   Column      Non-Null Count  Dtype  \n",
      "---  ------      --------------  -----  \n",
      " 0   Dept        33 non-null     object \n",
      " 1   Age         33 non-null     float64\n",
      " 2   Experience  33 non-null     float64\n",
      " 3   Salary      33 non-null     float64\n",
      " 4   Education   33 non-null     object \n",
      " 5   Projects    33 non-null     float64\n",
      "dtypes: float64(4), object(2)\n",
      "memory usage: 1.7+ KB\n"
     ]
    }
   ],
   "source": [
    "df1.info()"
   ]
  },
  {
   "cell_type": "code",
   "execution_count": 51,
   "id": "0fec9bc8",
   "metadata": {},
   "outputs": [],
   "source": [
    "# no missing value in our dataset"
   ]
  },
  {
   "cell_type": "code",
   "execution_count": 52,
   "id": "417d60d5",
   "metadata": {},
   "outputs": [
    {
     "data": {
      "text/html": [
       "<div>\n",
       "<style scoped>\n",
       "    .dataframe tbody tr th:only-of-type {\n",
       "        vertical-align: middle;\n",
       "    }\n",
       "\n",
       "    .dataframe tbody tr th {\n",
       "        vertical-align: top;\n",
       "    }\n",
       "\n",
       "    .dataframe thead th {\n",
       "        text-align: right;\n",
       "    }\n",
       "</style>\n",
       "<table border=\"1\" class=\"dataframe\">\n",
       "  <thead>\n",
       "    <tr style=\"text-align: right;\">\n",
       "      <th></th>\n",
       "      <th>Age</th>\n",
       "      <th>Experience</th>\n",
       "      <th>Salary</th>\n",
       "      <th>Projects</th>\n",
       "    </tr>\n",
       "  </thead>\n",
       "  <tbody>\n",
       "    <tr>\n",
       "      <th>count</th>\n",
       "      <td>33.000000</td>\n",
       "      <td>33.000000</td>\n",
       "      <td>33.000000</td>\n",
       "      <td>33.000000</td>\n",
       "    </tr>\n",
       "    <tr>\n",
       "      <th>mean</th>\n",
       "      <td>37.333333</td>\n",
       "      <td>13.136364</td>\n",
       "      <td>41984.848485</td>\n",
       "      <td>2.148148</td>\n",
       "    </tr>\n",
       "    <tr>\n",
       "      <th>std</th>\n",
       "      <td>17.792789</td>\n",
       "      <td>10.616374</td>\n",
       "      <td>15490.160611</td>\n",
       "      <td>1.137533</td>\n",
       "    </tr>\n",
       "    <tr>\n",
       "      <th>min</th>\n",
       "      <td>0.000000</td>\n",
       "      <td>0.000000</td>\n",
       "      <td>20000.000000</td>\n",
       "      <td>0.000000</td>\n",
       "    </tr>\n",
       "    <tr>\n",
       "      <th>25%</th>\n",
       "      <td>31.000000</td>\n",
       "      <td>11.000000</td>\n",
       "      <td>36000.000000</td>\n",
       "      <td>1.000000</td>\n",
       "    </tr>\n",
       "    <tr>\n",
       "      <th>50%</th>\n",
       "      <td>37.333333</td>\n",
       "      <td>12.000000</td>\n",
       "      <td>42000.000000</td>\n",
       "      <td>2.148148</td>\n",
       "    </tr>\n",
       "    <tr>\n",
       "      <th>75%</th>\n",
       "      <td>45.000000</td>\n",
       "      <td>12.000000</td>\n",
       "      <td>45000.000000</td>\n",
       "      <td>3.000000</td>\n",
       "    </tr>\n",
       "    <tr>\n",
       "      <th>max</th>\n",
       "      <td>75.000000</td>\n",
       "      <td>50.000000</td>\n",
       "      <td>90000.000000</td>\n",
       "      <td>5.000000</td>\n",
       "    </tr>\n",
       "  </tbody>\n",
       "</table>\n",
       "</div>"
      ],
      "text/plain": [
       "             Age  Experience        Salary   Projects\n",
       "count  33.000000   33.000000     33.000000  33.000000\n",
       "mean   37.333333   13.136364  41984.848485   2.148148\n",
       "std    17.792789   10.616374  15490.160611   1.137533\n",
       "min     0.000000    0.000000  20000.000000   0.000000\n",
       "25%    31.000000   11.000000  36000.000000   1.000000\n",
       "50%    37.333333   12.000000  42000.000000   2.148148\n",
       "75%    45.000000   12.000000  45000.000000   3.000000\n",
       "max    75.000000   50.000000  90000.000000   5.000000"
      ]
     },
     "execution_count": 52,
     "metadata": {},
     "output_type": "execute_result"
    }
   ],
   "source": [
    "df1.describe()"
   ]
  },
  {
   "cell_type": "code",
   "execution_count": 53,
   "id": "269a3db6",
   "metadata": {},
   "outputs": [
    {
     "data": {
      "text/plain": [
       "HR           15\n",
       "IT            8\n",
       "Sales         6\n",
       "Marketing     4\n",
       "Name: Dept, dtype: int64"
      ]
     },
     "execution_count": 53,
     "metadata": {},
     "output_type": "execute_result"
    }
   ],
   "source": [
    "df1[\"Dept\"].value_counts()"
   ]
  },
  {
   "cell_type": "code",
   "execution_count": 54,
   "id": "4e7d0727",
   "metadata": {},
   "outputs": [
    {
     "data": {
      "text/plain": [
       "Master            14\n",
       "Under_Graduate     9\n",
       "Graduate           8\n",
       "a                  1\n",
       "?                  1\n",
       "Name: Education, dtype: int64"
      ]
     },
     "execution_count": 54,
     "metadata": {},
     "output_type": "execute_result"
    }
   ],
   "source": [
    "df1[\"Education\"].value_counts()"
   ]
  },
  {
   "cell_type": "code",
   "execution_count": 55,
   "id": "364d12a7",
   "metadata": {},
   "outputs": [],
   "source": [
    "df1[\"Education\"]=df1[\"Education\"].replace(\"?\",df1[\"Education\"].mode()[0])"
   ]
  },
  {
   "cell_type": "code",
   "execution_count": 56,
   "id": "4012402f",
   "metadata": {},
   "outputs": [],
   "source": [
    "df1[\"Education\"]=df1[\"Education\"].replace(\"a\",df1[\"Education\"].mode()[0])"
   ]
  },
  {
   "cell_type": "code",
   "execution_count": 57,
   "id": "66f92a97",
   "metadata": {},
   "outputs": [
    {
     "data": {
      "text/plain": [
       "Master            16\n",
       "Under_Graduate     9\n",
       "Graduate           8\n",
       "Name: Education, dtype: int64"
      ]
     },
     "execution_count": 57,
     "metadata": {},
     "output_type": "execute_result"
    }
   ],
   "source": [
    "df1[\"Education\"].value_counts()"
   ]
  },
  {
   "cell_type": "code",
   "execution_count": 58,
   "id": "c64789f5",
   "metadata": {},
   "outputs": [],
   "source": [
    "# handling age 0 to mean value"
   ]
  },
  {
   "cell_type": "code",
   "execution_count": 59,
   "id": "8016b156",
   "metadata": {},
   "outputs": [],
   "source": [
    "df1[\"Age\"]=df1[\"Age\"].replace(0,df1[\"Age\"].mean())"
   ]
  },
  {
   "cell_type": "code",
   "execution_count": 60,
   "id": "0b1e6d2b",
   "metadata": {},
   "outputs": [
    {
     "data": {
      "text/html": [
       "<div>\n",
       "<style scoped>\n",
       "    .dataframe tbody tr th:only-of-type {\n",
       "        vertical-align: middle;\n",
       "    }\n",
       "\n",
       "    .dataframe tbody tr th {\n",
       "        vertical-align: top;\n",
       "    }\n",
       "\n",
       "    .dataframe thead th {\n",
       "        text-align: right;\n",
       "    }\n",
       "</style>\n",
       "<table border=\"1\" class=\"dataframe\">\n",
       "  <thead>\n",
       "    <tr style=\"text-align: right;\">\n",
       "      <th></th>\n",
       "      <th>Age</th>\n",
       "      <th>Experience</th>\n",
       "      <th>Salary</th>\n",
       "      <th>Projects</th>\n",
       "    </tr>\n",
       "  </thead>\n",
       "  <tbody>\n",
       "    <tr>\n",
       "      <th>count</th>\n",
       "      <td>33.000000</td>\n",
       "      <td>33.000000</td>\n",
       "      <td>33.000000</td>\n",
       "      <td>33.000000</td>\n",
       "    </tr>\n",
       "    <tr>\n",
       "      <th>mean</th>\n",
       "      <td>40.727273</td>\n",
       "      <td>13.136364</td>\n",
       "      <td>41984.848485</td>\n",
       "      <td>2.148148</td>\n",
       "    </tr>\n",
       "    <tr>\n",
       "      <th>std</th>\n",
       "      <td>13.192342</td>\n",
       "      <td>10.616374</td>\n",
       "      <td>15490.160611</td>\n",
       "      <td>1.137533</td>\n",
       "    </tr>\n",
       "    <tr>\n",
       "      <th>min</th>\n",
       "      <td>19.000000</td>\n",
       "      <td>0.000000</td>\n",
       "      <td>20000.000000</td>\n",
       "      <td>0.000000</td>\n",
       "    </tr>\n",
       "    <tr>\n",
       "      <th>25%</th>\n",
       "      <td>32.000000</td>\n",
       "      <td>11.000000</td>\n",
       "      <td>36000.000000</td>\n",
       "      <td>1.000000</td>\n",
       "    </tr>\n",
       "    <tr>\n",
       "      <th>50%</th>\n",
       "      <td>37.333333</td>\n",
       "      <td>12.000000</td>\n",
       "      <td>42000.000000</td>\n",
       "      <td>2.148148</td>\n",
       "    </tr>\n",
       "    <tr>\n",
       "      <th>75%</th>\n",
       "      <td>45.000000</td>\n",
       "      <td>12.000000</td>\n",
       "      <td>45000.000000</td>\n",
       "      <td>3.000000</td>\n",
       "    </tr>\n",
       "    <tr>\n",
       "      <th>max</th>\n",
       "      <td>75.000000</td>\n",
       "      <td>50.000000</td>\n",
       "      <td>90000.000000</td>\n",
       "      <td>5.000000</td>\n",
       "    </tr>\n",
       "  </tbody>\n",
       "</table>\n",
       "</div>"
      ],
      "text/plain": [
       "             Age  Experience        Salary   Projects\n",
       "count  33.000000   33.000000     33.000000  33.000000\n",
       "mean   40.727273   13.136364  41984.848485   2.148148\n",
       "std    13.192342   10.616374  15490.160611   1.137533\n",
       "min    19.000000    0.000000  20000.000000   0.000000\n",
       "25%    32.000000   11.000000  36000.000000   1.000000\n",
       "50%    37.333333   12.000000  42000.000000   2.148148\n",
       "75%    45.000000   12.000000  45000.000000   3.000000\n",
       "max    75.000000   50.000000  90000.000000   5.000000"
      ]
     },
     "execution_count": 60,
     "metadata": {},
     "output_type": "execute_result"
    }
   ],
   "source": [
    "df1.describe()"
   ]
  },
  {
   "cell_type": "code",
   "execution_count": 61,
   "id": "c8139cd6",
   "metadata": {},
   "outputs": [],
   "source": [
    "# handling multi Categorical columns missing value in one line of code"
   ]
  },
  {
   "cell_type": "code",
   "execution_count": 62,
   "id": "a254faa4",
   "metadata": {},
   "outputs": [],
   "source": [
    "Cat_cols=[\"Dept\",\"Education\"]"
   ]
  },
  {
   "cell_type": "code",
   "execution_count": 63,
   "id": "f24fccc5",
   "metadata": {},
   "outputs": [],
   "source": [
    "df2=df.copy()"
   ]
  },
  {
   "cell_type": "code",
   "execution_count": 64,
   "id": "e8397f5a",
   "metadata": {},
   "outputs": [],
   "source": [
    "df2[Cat_cols]=df2[Cat_cols].fillna(df2[Cat_cols].mode().iloc[0])"
   ]
  },
  {
   "cell_type": "code",
   "execution_count": 65,
   "id": "fd47b681",
   "metadata": {},
   "outputs": [],
   "source": [
    "# handling multi numerical columns missing value in one line of code"
   ]
  },
  {
   "cell_type": "code",
   "execution_count": 66,
   "id": "31cb7b46",
   "metadata": {},
   "outputs": [],
   "source": [
    "Num_cols=[\"Age\",\"Experience\",\"Salary\",\"Projects\"]"
   ]
  },
  {
   "cell_type": "code",
   "execution_count": 67,
   "id": "7393b3a1",
   "metadata": {},
   "outputs": [
    {
     "name": "stderr",
     "output_type": "stream",
     "text": [
      "C:\\Users\\HP\\AppData\\Local\\Temp\\ipykernel_13036\\1956437915.py:1: FutureWarning: Dropping of nuisance columns in DataFrame reductions (with 'numeric_only=None') is deprecated; in a future version this will raise TypeError.  Select only valid columns before calling the reduction.\n",
      "  df2[Num_cols]=df2[Num_cols].fillna(df2[Num_cols].mean())\n"
     ]
    }
   ],
   "source": [
    "df2[Num_cols]=df2[Num_cols].fillna(df2[Num_cols].mean())"
   ]
  },
  {
   "cell_type": "code",
   "execution_count": 68,
   "id": "26250c5d",
   "metadata": {},
   "outputs": [],
   "source": [
    "# assume we dont want inpute approach , we want to drop missing value"
   ]
  },
  {
   "cell_type": "code",
   "execution_count": 69,
   "id": "4c0688be",
   "metadata": {},
   "outputs": [],
   "source": [
    "df3=df.copy()"
   ]
  },
  {
   "cell_type": "code",
   "execution_count": 70,
   "id": "9e48c759",
   "metadata": {},
   "outputs": [
    {
     "name": "stdout",
     "output_type": "stream",
     "text": [
      "<class 'pandas.core.frame.DataFrame'>\n",
      "RangeIndex: 33 entries, 0 to 32\n",
      "Data columns (total 6 columns):\n",
      " #   Column      Non-Null Count  Dtype  \n",
      "---  ------      --------------  -----  \n",
      " 0   Dept        31 non-null     object \n",
      " 1   Age         30 non-null     float64\n",
      " 2   Experience  29 non-null     object \n",
      " 3   Salary      31 non-null     float64\n",
      " 4   Education   31 non-null     object \n",
      " 5   Projects    27 non-null     float64\n",
      "dtypes: float64(3), object(3)\n",
      "memory usage: 1.7+ KB\n"
     ]
    }
   ],
   "source": [
    "df.info()"
   ]
  },
  {
   "cell_type": "code",
   "execution_count": 71,
   "id": "10d7ecaa",
   "metadata": {},
   "outputs": [],
   "source": [
    "df3.dropna(inplace=True)# will drop all rows with Nan in any column\n",
    "# but this is not a good approach"
   ]
  },
  {
   "cell_type": "code",
   "execution_count": 72,
   "id": "904338e3",
   "metadata": {},
   "outputs": [
    {
     "name": "stdout",
     "output_type": "stream",
     "text": [
      "<class 'pandas.core.frame.DataFrame'>\n",
      "Int64Index: 17 entries, 0 to 31\n",
      "Data columns (total 6 columns):\n",
      " #   Column      Non-Null Count  Dtype  \n",
      "---  ------      --------------  -----  \n",
      " 0   Dept        17 non-null     object \n",
      " 1   Age         17 non-null     float64\n",
      " 2   Experience  17 non-null     object \n",
      " 3   Salary      17 non-null     float64\n",
      " 4   Education   17 non-null     object \n",
      " 5   Projects    17 non-null     float64\n",
      "dtypes: float64(3), object(3)\n",
      "memory usage: 952.0+ bytes\n"
     ]
    }
   ],
   "source": [
    "df3.info()"
   ]
  },
  {
   "cell_type": "markdown",
   "id": "d5fba7e6",
   "metadata": {},
   "source": [
    "# Feature Engineering -Outlier treatment "
   ]
  },
  {
   "cell_type": "code",
   "execution_count": 73,
   "id": "5cd8ec79",
   "metadata": {},
   "outputs": [
    {
     "name": "stdout",
     "output_type": "stream",
     "text": [
      "<class 'pandas.core.frame.DataFrame'>\n",
      "RangeIndex: 33 entries, 0 to 32\n",
      "Data columns (total 6 columns):\n",
      " #   Column      Non-Null Count  Dtype  \n",
      "---  ------      --------------  -----  \n",
      " 0   Dept        33 non-null     object \n",
      " 1   Age         33 non-null     float64\n",
      " 2   Experience  33 non-null     float64\n",
      " 3   Salary      33 non-null     float64\n",
      " 4   Education   33 non-null     object \n",
      " 5   Projects    33 non-null     float64\n",
      "dtypes: float64(4), object(2)\n",
      "memory usage: 1.7+ KB\n"
     ]
    }
   ],
   "source": [
    "df1.info()"
   ]
  },
  {
   "cell_type": "code",
   "execution_count": 74,
   "id": "22d33b99",
   "metadata": {},
   "outputs": [
    {
     "data": {
      "text/plain": [
       "<AxesSubplot:>"
      ]
     },
     "execution_count": 74,
     "metadata": {},
     "output_type": "execute_result"
    },
    {
     "data": {
      "image/png": "[encoded data removed]",
      "text/plain": [
       "<Figure size 640x480 with 1 Axes>"
      ]
     },
     "metadata": {},
     "output_type": "display_data"
    }
   ],
   "source": [
    "sns.boxplot(data=df1)"
   ]
  },
  {
   "cell_type": "code",
   "execution_count": 75,
   "id": "1e3a4d6a",
   "metadata": {},
   "outputs": [
    {
     "data": {
      "text/html": [
       "<div>\n",
       "<style scoped>\n",
       "    .dataframe tbody tr th:only-of-type {\n",
       "        vertical-align: middle;\n",
       "    }\n",
       "\n",
       "    .dataframe tbody tr th {\n",
       "        vertical-align: top;\n",
       "    }\n",
       "\n",
       "    .dataframe thead th {\n",
       "        text-align: right;\n",
       "    }\n",
       "</style>\n",
       "<table border=\"1\" class=\"dataframe\">\n",
       "  <thead>\n",
       "    <tr style=\"text-align: right;\">\n",
       "      <th></th>\n",
       "      <th>Age</th>\n",
       "      <th>Experience</th>\n",
       "      <th>Salary</th>\n",
       "      <th>Projects</th>\n",
       "    </tr>\n",
       "  </thead>\n",
       "  <tbody>\n",
       "    <tr>\n",
       "      <th>count</th>\n",
       "      <td>33.000000</td>\n",
       "      <td>33.000000</td>\n",
       "      <td>33.000000</td>\n",
       "      <td>33.000000</td>\n",
       "    </tr>\n",
       "    <tr>\n",
       "      <th>mean</th>\n",
       "      <td>40.727273</td>\n",
       "      <td>13.136364</td>\n",
       "      <td>41984.848485</td>\n",
       "      <td>2.148148</td>\n",
       "    </tr>\n",
       "    <tr>\n",
       "      <th>std</th>\n",
       "      <td>13.192342</td>\n",
       "      <td>10.616374</td>\n",
       "      <td>15490.160611</td>\n",
       "      <td>1.137533</td>\n",
       "    </tr>\n",
       "    <tr>\n",
       "      <th>min</th>\n",
       "      <td>19.000000</td>\n",
       "      <td>0.000000</td>\n",
       "      <td>20000.000000</td>\n",
       "      <td>0.000000</td>\n",
       "    </tr>\n",
       "    <tr>\n",
       "      <th>25%</th>\n",
       "      <td>32.000000</td>\n",
       "      <td>11.000000</td>\n",
       "      <td>36000.000000</td>\n",
       "      <td>1.000000</td>\n",
       "    </tr>\n",
       "    <tr>\n",
       "      <th>50%</th>\n",
       "      <td>37.333333</td>\n",
       "      <td>12.000000</td>\n",
       "      <td>42000.000000</td>\n",
       "      <td>2.148148</td>\n",
       "    </tr>\n",
       "    <tr>\n",
       "      <th>75%</th>\n",
       "      <td>45.000000</td>\n",
       "      <td>12.000000</td>\n",
       "      <td>45000.000000</td>\n",
       "      <td>3.000000</td>\n",
       "    </tr>\n",
       "    <tr>\n",
       "      <th>max</th>\n",
       "      <td>75.000000</td>\n",
       "      <td>50.000000</td>\n",
       "      <td>90000.000000</td>\n",
       "      <td>5.000000</td>\n",
       "    </tr>\n",
       "  </tbody>\n",
       "</table>\n",
       "</div>"
      ],
      "text/plain": [
       "             Age  Experience        Salary   Projects\n",
       "count  33.000000   33.000000     33.000000  33.000000\n",
       "mean   40.727273   13.136364  41984.848485   2.148148\n",
       "std    13.192342   10.616374  15490.160611   1.137533\n",
       "min    19.000000    0.000000  20000.000000   0.000000\n",
       "25%    32.000000   11.000000  36000.000000   1.000000\n",
       "50%    37.333333   12.000000  42000.000000   2.148148\n",
       "75%    45.000000   12.000000  45000.000000   3.000000\n",
       "max    75.000000   50.000000  90000.000000   5.000000"
      ]
     },
     "execution_count": 75,
     "metadata": {},
     "output_type": "execute_result"
    }
   ],
   "source": [
    "df1.describe()"
   ]
  },
  {
   "cell_type": "code",
   "execution_count": 76,
   "id": "b47ca5f2",
   "metadata": {},
   "outputs": [
    {
     "data": {
      "text/plain": [
       "<AxesSubplot:ylabel='Salary'>"
      ]
     },
     "execution_count": 76,
     "metadata": {},
     "output_type": "execute_result"
    },
    {
     "data": {
      "image/png": "[encoded data removed]",
      "text/plain": [
       "<Figure size 640x480 with 1 Axes>"
      ]
     },
     "metadata": {},
     "output_type": "display_data"
    }
   ],
   "source": [
    "sns.boxplot(y=\"Salary\",data=df1)"
   ]
  },
  {
   "cell_type": "markdown",
   "id": "cc34d59f",
   "metadata": {},
   "source": [
    "# USING IQR approach"
   ]
  },
  {
   "cell_type": "code",
   "execution_count": 137,
   "id": "1f1e1679",
   "metadata": {},
   "outputs": [
    {
     "name": "stdout",
     "output_type": "stream",
     "text": [
      "<class 'pandas.core.frame.DataFrame'>\n",
      "RangeIndex: 33 entries, 0 to 32\n",
      "Data columns (total 6 columns):\n",
      " #   Column      Non-Null Count  Dtype  \n",
      "---  ------      --------------  -----  \n",
      " 0   Dept        33 non-null     object \n",
      " 1   Age         33 non-null     float64\n",
      " 2   Experience  33 non-null     float64\n",
      " 3   Salary      33 non-null     float64\n",
      " 4   Education   33 non-null     object \n",
      " 5   Projects    33 non-null     float64\n",
      "dtypes: float64(4), object(2)\n",
      "memory usage: 1.7+ KB\n"
     ]
    }
   ],
   "source": [
    "df1.info()"
   ]
  },
  {
   "cell_type": "code",
   "execution_count": 77,
   "id": "285baebe",
   "metadata": {},
   "outputs": [
    {
     "name": "stdout",
     "output_type": "stream",
     "text": [
      "Upper fence \n",
      " Age              64.5\n",
      "Experience       13.5\n",
      "Salary        58500.0\n",
      "Projects          6.0\n",
      "dtype: float64\n",
      "Lower fence \n",
      " Age              12.5\n",
      "Experience        9.5\n",
      "Salary        22500.0\n",
      "Projects         -2.0\n",
      "dtype: float64\n"
     ]
    }
   ],
   "source": [
    "Q1=df1.quantile(0.25)\n",
    "Q3=df1.quantile(0.75)\n",
    "IQR=Q3-Q1\n",
    "Upper_fence=(Q3+1.5*IQR)\n",
    "Lower_fence=(Q1-1.5*IQR)\n",
    "print(\"Upper fence \\n\",Upper_fence)\n",
    "print(\"Lower fence \\n\",Lower_fence)"
   ]
  },
  {
   "cell_type": "markdown",
   "id": "b42cdeb0",
   "metadata": {},
   "source": [
    "# Removal of outliers"
   ]
  },
  {
   "cell_type": "code",
   "execution_count": 78,
   "id": "8e6eea29",
   "metadata": {},
   "outputs": [
    {
     "name": "stderr",
     "output_type": "stream",
     "text": [
      "C:\\Users\\HP\\AppData\\Local\\Temp\\ipykernel_13036\\3325345924.py:2: FutureWarning: Automatic reindexing on DataFrame vs Series comparisons is deprecated and will raise ValueError in a future version. Do `left, right = left.align(right, axis=1, copy=False)` before e.g. `left == right`\n",
      "  df10=df1[~((df1<(Lower_fence))|(df1>(Upper_fence))).any(axis=1)]\n"
     ]
    }
   ],
   "source": [
    "# Removal of outliers\n",
    "df10=df1[~((df1<(Lower_fence))|(df1>(Upper_fence))).any(axis=1)]"
   ]
  },
  {
   "cell_type": "code",
   "execution_count": 79,
   "id": "d39008ed",
   "metadata": {},
   "outputs": [],
   "source": [
    "# Removal of outliers:- TRIMMING PROCESS\n",
    "#option 1\n",
    "# (|) pipe function is the pipe symbol means OR either one but ignore the duplicate one.\n",
    "#(~) tilda means comparing \n",
    "# when we apply any(asix=1) move column wise find the outlier and delete it."
   ]
  },
  {
   "cell_type": "code",
   "execution_count": 80,
   "id": "152a6db0",
   "metadata": {},
   "outputs": [
    {
     "data": {
      "text/html": [
       "<div>\n",
       "<style scoped>\n",
       "    .dataframe tbody tr th:only-of-type {\n",
       "        vertical-align: middle;\n",
       "    }\n",
       "\n",
       "    .dataframe tbody tr th {\n",
       "        vertical-align: top;\n",
       "    }\n",
       "\n",
       "    .dataframe thead th {\n",
       "        text-align: right;\n",
       "    }\n",
       "</style>\n",
       "<table border=\"1\" class=\"dataframe\">\n",
       "  <thead>\n",
       "    <tr style=\"text-align: right;\">\n",
       "      <th></th>\n",
       "      <th>Age</th>\n",
       "      <th>Experience</th>\n",
       "      <th>Salary</th>\n",
       "      <th>Projects</th>\n",
       "    </tr>\n",
       "  </thead>\n",
       "  <tbody>\n",
       "    <tr>\n",
       "      <th>count</th>\n",
       "      <td>33.000000</td>\n",
       "      <td>33.000000</td>\n",
       "      <td>33.000000</td>\n",
       "      <td>33.000000</td>\n",
       "    </tr>\n",
       "    <tr>\n",
       "      <th>mean</th>\n",
       "      <td>40.727273</td>\n",
       "      <td>13.136364</td>\n",
       "      <td>41984.848485</td>\n",
       "      <td>2.148148</td>\n",
       "    </tr>\n",
       "    <tr>\n",
       "      <th>std</th>\n",
       "      <td>13.192342</td>\n",
       "      <td>10.616374</td>\n",
       "      <td>15490.160611</td>\n",
       "      <td>1.137533</td>\n",
       "    </tr>\n",
       "    <tr>\n",
       "      <th>min</th>\n",
       "      <td>19.000000</td>\n",
       "      <td>0.000000</td>\n",
       "      <td>20000.000000</td>\n",
       "      <td>0.000000</td>\n",
       "    </tr>\n",
       "    <tr>\n",
       "      <th>25%</th>\n",
       "      <td>32.000000</td>\n",
       "      <td>11.000000</td>\n",
       "      <td>36000.000000</td>\n",
       "      <td>1.000000</td>\n",
       "    </tr>\n",
       "    <tr>\n",
       "      <th>50%</th>\n",
       "      <td>37.333333</td>\n",
       "      <td>12.000000</td>\n",
       "      <td>42000.000000</td>\n",
       "      <td>2.148148</td>\n",
       "    </tr>\n",
       "    <tr>\n",
       "      <th>75%</th>\n",
       "      <td>45.000000</td>\n",
       "      <td>12.000000</td>\n",
       "      <td>45000.000000</td>\n",
       "      <td>3.000000</td>\n",
       "    </tr>\n",
       "    <tr>\n",
       "      <th>max</th>\n",
       "      <td>75.000000</td>\n",
       "      <td>50.000000</td>\n",
       "      <td>90000.000000</td>\n",
       "      <td>5.000000</td>\n",
       "    </tr>\n",
       "  </tbody>\n",
       "</table>\n",
       "</div>"
      ],
      "text/plain": [
       "             Age  Experience        Salary   Projects\n",
       "count  33.000000   33.000000     33.000000  33.000000\n",
       "mean   40.727273   13.136364  41984.848485   2.148148\n",
       "std    13.192342   10.616374  15490.160611   1.137533\n",
       "min    19.000000    0.000000  20000.000000   0.000000\n",
       "25%    32.000000   11.000000  36000.000000   1.000000\n",
       "50%    37.333333   12.000000  42000.000000   2.148148\n",
       "75%    45.000000   12.000000  45000.000000   3.000000\n",
       "max    75.000000   50.000000  90000.000000   5.000000"
      ]
     },
     "execution_count": 80,
     "metadata": {},
     "output_type": "execute_result"
    }
   ],
   "source": [
    "df1.describe()"
   ]
  },
  {
   "cell_type": "code",
   "execution_count": 81,
   "id": "89fb35cf",
   "metadata": {},
   "outputs": [
    {
     "data": {
      "text/html": [
       "<div>\n",
       "<style scoped>\n",
       "    .dataframe tbody tr th:only-of-type {\n",
       "        vertical-align: middle;\n",
       "    }\n",
       "\n",
       "    .dataframe tbody tr th {\n",
       "        vertical-align: top;\n",
       "    }\n",
       "\n",
       "    .dataframe thead th {\n",
       "        text-align: right;\n",
       "    }\n",
       "</style>\n",
       "<table border=\"1\" class=\"dataframe\">\n",
       "  <thead>\n",
       "    <tr style=\"text-align: right;\">\n",
       "      <th></th>\n",
       "      <th>Age</th>\n",
       "      <th>Experience</th>\n",
       "      <th>Salary</th>\n",
       "      <th>Projects</th>\n",
       "    </tr>\n",
       "  </thead>\n",
       "  <tbody>\n",
       "    <tr>\n",
       "      <th>count</th>\n",
       "      <td>18.000000</td>\n",
       "      <td>18.000000</td>\n",
       "      <td>18.000000</td>\n",
       "      <td>18.000000</td>\n",
       "    </tr>\n",
       "    <tr>\n",
       "      <th>mean</th>\n",
       "      <td>38.462963</td>\n",
       "      <td>11.777778</td>\n",
       "      <td>40611.111111</td>\n",
       "      <td>2.430041</td>\n",
       "    </tr>\n",
       "    <tr>\n",
       "      <th>std</th>\n",
       "      <td>7.206695</td>\n",
       "      <td>0.732084</td>\n",
       "      <td>5574.510149</td>\n",
       "      <td>1.182741</td>\n",
       "    </tr>\n",
       "    <tr>\n",
       "      <th>min</th>\n",
       "      <td>29.000000</td>\n",
       "      <td>10.000000</td>\n",
       "      <td>26000.000000</td>\n",
       "      <td>0.000000</td>\n",
       "    </tr>\n",
       "    <tr>\n",
       "      <th>25%</th>\n",
       "      <td>33.250000</td>\n",
       "      <td>11.250000</td>\n",
       "      <td>39000.000000</td>\n",
       "      <td>2.000000</td>\n",
       "    </tr>\n",
       "    <tr>\n",
       "      <th>50%</th>\n",
       "      <td>37.333333</td>\n",
       "      <td>12.000000</td>\n",
       "      <td>42000.000000</td>\n",
       "      <td>2.148148</td>\n",
       "    </tr>\n",
       "    <tr>\n",
       "      <th>75%</th>\n",
       "      <td>41.000000</td>\n",
       "      <td>12.000000</td>\n",
       "      <td>45000.000000</td>\n",
       "      <td>3.000000</td>\n",
       "    </tr>\n",
       "    <tr>\n",
       "      <th>max</th>\n",
       "      <td>56.000000</td>\n",
       "      <td>13.000000</td>\n",
       "      <td>48000.000000</td>\n",
       "      <td>5.000000</td>\n",
       "    </tr>\n",
       "  </tbody>\n",
       "</table>\n",
       "</div>"
      ],
      "text/plain": [
       "             Age  Experience        Salary   Projects\n",
       "count  18.000000   18.000000     18.000000  18.000000\n",
       "mean   38.462963   11.777778  40611.111111   2.430041\n",
       "std     7.206695    0.732084   5574.510149   1.182741\n",
       "min    29.000000   10.000000  26000.000000   0.000000\n",
       "25%    33.250000   11.250000  39000.000000   2.000000\n",
       "50%    37.333333   12.000000  42000.000000   2.148148\n",
       "75%    41.000000   12.000000  45000.000000   3.000000\n",
       "max    56.000000   13.000000  48000.000000   5.000000"
      ]
     },
     "execution_count": 81,
     "metadata": {},
     "output_type": "execute_result"
    }
   ],
   "source": [
    "df10.describe()"
   ]
  },
  {
   "cell_type": "code",
   "execution_count": 82,
   "id": "51a96f7a",
   "metadata": {},
   "outputs": [
    {
     "name": "stdout",
     "output_type": "stream",
     "text": [
      "<class 'pandas.core.frame.DataFrame'>\n",
      "RangeIndex: 33 entries, 0 to 32\n",
      "Data columns (total 6 columns):\n",
      " #   Column      Non-Null Count  Dtype  \n",
      "---  ------      --------------  -----  \n",
      " 0   Dept        33 non-null     object \n",
      " 1   Age         33 non-null     float64\n",
      " 2   Experience  33 non-null     float64\n",
      " 3   Salary      33 non-null     float64\n",
      " 4   Education   33 non-null     object \n",
      " 5   Projects    33 non-null     float64\n",
      "dtypes: float64(4), object(2)\n",
      "memory usage: 1.7+ KB\n"
     ]
    }
   ],
   "source": [
    "df1.info()"
   ]
  },
  {
   "cell_type": "code",
   "execution_count": 83,
   "id": "4d7509b2",
   "metadata": {},
   "outputs": [
    {
     "name": "stdout",
     "output_type": "stream",
     "text": [
      "<class 'pandas.core.frame.DataFrame'>\n",
      "Int64Index: 18 entries, 1 to 32\n",
      "Data columns (total 6 columns):\n",
      " #   Column      Non-Null Count  Dtype  \n",
      "---  ------      --------------  -----  \n",
      " 0   Dept        18 non-null     object \n",
      " 1   Age         18 non-null     float64\n",
      " 2   Experience  18 non-null     float64\n",
      " 3   Salary      18 non-null     float64\n",
      " 4   Education   18 non-null     object \n",
      " 5   Projects    18 non-null     float64\n",
      "dtypes: float64(4), object(2)\n",
      "memory usage: 1008.0+ bytes\n"
     ]
    }
   ],
   "source": [
    "df10.info()"
   ]
  },
  {
   "cell_type": "code",
   "execution_count": 84,
   "id": "3aaa0bed",
   "metadata": {},
   "outputs": [
    {
     "data": {
      "text/plain": [
       "<AxesSubplot:ylabel='Salary'>"
      ]
     },
     "execution_count": 84,
     "metadata": {},
     "output_type": "execute_result"
    },
    {
     "data": {
      "image/png": "[encoded data removed]",
      "text/plain": [
       "<Figure size 640x480 with 1 Axes>"
      ]
     },
     "metadata": {},
     "output_type": "display_data"
    }
   ],
   "source": [
    "sns.boxplot(y=\"Salary\",data=df10)"
   ]
  },
  {
   "cell_type": "markdown",
   "id": "9dee5045",
   "metadata": {},
   "source": [
    "# flooring or Capping option - adjustment of outlier- no delete "
   ]
  },
  {
   "cell_type": "code",
   "execution_count": 85,
   "id": "acf9bdde",
   "metadata": {},
   "outputs": [
    {
     "name": "stdout",
     "output_type": "stream",
     "text": [
      "Upper fence \n",
      " Age              64.5\n",
      "Experience       13.5\n",
      "Salary        58500.0\n",
      "Projects          6.0\n",
      "dtype: float64\n",
      "Lower fence \n",
      " Age              12.5\n",
      "Experience        9.5\n",
      "Salary        22500.0\n",
      "Projects         -2.0\n",
      "dtype: float64\n"
     ]
    }
   ],
   "source": [
    "Q1=df1.quantile(0.25)\n",
    "Q3=df1.quantile(0.75)\n",
    "IQR=Q3-Q1\n",
    "Upper_fence=(Q3+1.5*IQR)\n",
    "Lower_fence=(Q1-1.5*IQR)\n",
    "print(\"Upper fence \\n\",Upper_fence)\n",
    "print(\"Lower fence \\n\",Lower_fence)"
   ]
  },
  {
   "cell_type": "code",
   "execution_count": 86,
   "id": "a6c86bd8",
   "metadata": {},
   "outputs": [],
   "source": [
    "df11=df1.copy()"
   ]
  },
  {
   "cell_type": "code",
   "execution_count": 87,
   "id": "914fd135",
   "metadata": {},
   "outputs": [
    {
     "data": {
      "text/html": [
       "<div>\n",
       "<style scoped>\n",
       "    .dataframe tbody tr th:only-of-type {\n",
       "        vertical-align: middle;\n",
       "    }\n",
       "\n",
       "    .dataframe tbody tr th {\n",
       "        vertical-align: top;\n",
       "    }\n",
       "\n",
       "    .dataframe thead th {\n",
       "        text-align: right;\n",
       "    }\n",
       "</style>\n",
       "<table border=\"1\" class=\"dataframe\">\n",
       "  <thead>\n",
       "    <tr style=\"text-align: right;\">\n",
       "      <th></th>\n",
       "      <th>Age</th>\n",
       "      <th>Experience</th>\n",
       "      <th>Salary</th>\n",
       "      <th>Projects</th>\n",
       "    </tr>\n",
       "  </thead>\n",
       "  <tbody>\n",
       "    <tr>\n",
       "      <th>count</th>\n",
       "      <td>33.000000</td>\n",
       "      <td>33.000000</td>\n",
       "      <td>33.000000</td>\n",
       "      <td>33.000000</td>\n",
       "    </tr>\n",
       "    <tr>\n",
       "      <th>mean</th>\n",
       "      <td>40.727273</td>\n",
       "      <td>13.136364</td>\n",
       "      <td>41984.848485</td>\n",
       "      <td>2.148148</td>\n",
       "    </tr>\n",
       "    <tr>\n",
       "      <th>std</th>\n",
       "      <td>13.192342</td>\n",
       "      <td>10.616374</td>\n",
       "      <td>15490.160611</td>\n",
       "      <td>1.137533</td>\n",
       "    </tr>\n",
       "    <tr>\n",
       "      <th>min</th>\n",
       "      <td>19.000000</td>\n",
       "      <td>0.000000</td>\n",
       "      <td>20000.000000</td>\n",
       "      <td>0.000000</td>\n",
       "    </tr>\n",
       "    <tr>\n",
       "      <th>25%</th>\n",
       "      <td>32.000000</td>\n",
       "      <td>11.000000</td>\n",
       "      <td>36000.000000</td>\n",
       "      <td>1.000000</td>\n",
       "    </tr>\n",
       "    <tr>\n",
       "      <th>50%</th>\n",
       "      <td>37.333333</td>\n",
       "      <td>12.000000</td>\n",
       "      <td>42000.000000</td>\n",
       "      <td>2.148148</td>\n",
       "    </tr>\n",
       "    <tr>\n",
       "      <th>75%</th>\n",
       "      <td>45.000000</td>\n",
       "      <td>12.000000</td>\n",
       "      <td>45000.000000</td>\n",
       "      <td>3.000000</td>\n",
       "    </tr>\n",
       "    <tr>\n",
       "      <th>max</th>\n",
       "      <td>75.000000</td>\n",
       "      <td>50.000000</td>\n",
       "      <td>90000.000000</td>\n",
       "      <td>5.000000</td>\n",
       "    </tr>\n",
       "  </tbody>\n",
       "</table>\n",
       "</div>"
      ],
      "text/plain": [
       "             Age  Experience        Salary   Projects\n",
       "count  33.000000   33.000000     33.000000  33.000000\n",
       "mean   40.727273   13.136364  41984.848485   2.148148\n",
       "std    13.192342   10.616374  15490.160611   1.137533\n",
       "min    19.000000    0.000000  20000.000000   0.000000\n",
       "25%    32.000000   11.000000  36000.000000   1.000000\n",
       "50%    37.333333   12.000000  42000.000000   2.148148\n",
       "75%    45.000000   12.000000  45000.000000   3.000000\n",
       "max    75.000000   50.000000  90000.000000   5.000000"
      ]
     },
     "execution_count": 87,
     "metadata": {},
     "output_type": "execute_result"
    }
   ],
   "source": [
    "df11.describe()"
   ]
  },
  {
   "cell_type": "code",
   "execution_count": 88,
   "id": "e42dad0d",
   "metadata": {},
   "outputs": [],
   "source": [
    "df11[\"Age\"]=np.where(df11[\"Age\"]>64.5,64.5,np.where(df11[\"Age\"]<12.5,12.5,df11[\"Age\"]))"
   ]
  },
  {
   "cell_type": "code",
   "execution_count": 89,
   "id": "15b33670",
   "metadata": {},
   "outputs": [
    {
     "data": {
      "text/html": [
       "<div>\n",
       "<style scoped>\n",
       "    .dataframe tbody tr th:only-of-type {\n",
       "        vertical-align: middle;\n",
       "    }\n",
       "\n",
       "    .dataframe tbody tr th {\n",
       "        vertical-align: top;\n",
       "    }\n",
       "\n",
       "    .dataframe thead th {\n",
       "        text-align: right;\n",
       "    }\n",
       "</style>\n",
       "<table border=\"1\" class=\"dataframe\">\n",
       "  <thead>\n",
       "    <tr style=\"text-align: right;\">\n",
       "      <th></th>\n",
       "      <th>Age</th>\n",
       "      <th>Experience</th>\n",
       "      <th>Salary</th>\n",
       "      <th>Projects</th>\n",
       "    </tr>\n",
       "  </thead>\n",
       "  <tbody>\n",
       "    <tr>\n",
       "      <th>count</th>\n",
       "      <td>33.000000</td>\n",
       "      <td>33.000000</td>\n",
       "      <td>33.000000</td>\n",
       "      <td>33.000000</td>\n",
       "    </tr>\n",
       "    <tr>\n",
       "      <th>mean</th>\n",
       "      <td>39.924242</td>\n",
       "      <td>13.136364</td>\n",
       "      <td>41984.848485</td>\n",
       "      <td>2.148148</td>\n",
       "    </tr>\n",
       "    <tr>\n",
       "      <th>std</th>\n",
       "      <td>11.232246</td>\n",
       "      <td>10.616374</td>\n",
       "      <td>15490.160611</td>\n",
       "      <td>1.137533</td>\n",
       "    </tr>\n",
       "    <tr>\n",
       "      <th>min</th>\n",
       "      <td>19.000000</td>\n",
       "      <td>0.000000</td>\n",
       "      <td>20000.000000</td>\n",
       "      <td>0.000000</td>\n",
       "    </tr>\n",
       "    <tr>\n",
       "      <th>25%</th>\n",
       "      <td>32.000000</td>\n",
       "      <td>11.000000</td>\n",
       "      <td>36000.000000</td>\n",
       "      <td>1.000000</td>\n",
       "    </tr>\n",
       "    <tr>\n",
       "      <th>50%</th>\n",
       "      <td>37.333333</td>\n",
       "      <td>12.000000</td>\n",
       "      <td>42000.000000</td>\n",
       "      <td>2.148148</td>\n",
       "    </tr>\n",
       "    <tr>\n",
       "      <th>75%</th>\n",
       "      <td>45.000000</td>\n",
       "      <td>12.000000</td>\n",
       "      <td>45000.000000</td>\n",
       "      <td>3.000000</td>\n",
       "    </tr>\n",
       "    <tr>\n",
       "      <th>max</th>\n",
       "      <td>64.500000</td>\n",
       "      <td>50.000000</td>\n",
       "      <td>90000.000000</td>\n",
       "      <td>5.000000</td>\n",
       "    </tr>\n",
       "  </tbody>\n",
       "</table>\n",
       "</div>"
      ],
      "text/plain": [
       "             Age  Experience        Salary   Projects\n",
       "count  33.000000   33.000000     33.000000  33.000000\n",
       "mean   39.924242   13.136364  41984.848485   2.148148\n",
       "std    11.232246   10.616374  15490.160611   1.137533\n",
       "min    19.000000    0.000000  20000.000000   0.000000\n",
       "25%    32.000000   11.000000  36000.000000   1.000000\n",
       "50%    37.333333   12.000000  42000.000000   2.148148\n",
       "75%    45.000000   12.000000  45000.000000   3.000000\n",
       "max    64.500000   50.000000  90000.000000   5.000000"
      ]
     },
     "execution_count": 89,
     "metadata": {},
     "output_type": "execute_result"
    }
   ],
   "source": [
    "df11.describe()"
   ]
  },
  {
   "cell_type": "code",
   "execution_count": 90,
   "id": "4d9202f0",
   "metadata": {},
   "outputs": [],
   "source": [
    "df11[\"Experience\"]=np.where(df11[\"Experience\"]>13.5,13.5,np.where(df11[\"Experience\"]<9.5,9.5,df11[\"Experience\"]))"
   ]
  },
  {
   "cell_type": "code",
   "execution_count": 91,
   "id": "38659f3b",
   "metadata": {},
   "outputs": [
    {
     "data": {
      "text/html": [
       "<div>\n",
       "<style scoped>\n",
       "    .dataframe tbody tr th:only-of-type {\n",
       "        vertical-align: middle;\n",
       "    }\n",
       "\n",
       "    .dataframe tbody tr th {\n",
       "        vertical-align: top;\n",
       "    }\n",
       "\n",
       "    .dataframe thead th {\n",
       "        text-align: right;\n",
       "    }\n",
       "</style>\n",
       "<table border=\"1\" class=\"dataframe\">\n",
       "  <thead>\n",
       "    <tr style=\"text-align: right;\">\n",
       "      <th></th>\n",
       "      <th>Age</th>\n",
       "      <th>Experience</th>\n",
       "      <th>Salary</th>\n",
       "      <th>Projects</th>\n",
       "    </tr>\n",
       "  </thead>\n",
       "  <tbody>\n",
       "    <tr>\n",
       "      <th>count</th>\n",
       "      <td>33.000000</td>\n",
       "      <td>33.000000</td>\n",
       "      <td>33.000000</td>\n",
       "      <td>33.000000</td>\n",
       "    </tr>\n",
       "    <tr>\n",
       "      <th>mean</th>\n",
       "      <td>39.924242</td>\n",
       "      <td>11.621212</td>\n",
       "      <td>41984.848485</td>\n",
       "      <td>2.148148</td>\n",
       "    </tr>\n",
       "    <tr>\n",
       "      <th>std</th>\n",
       "      <td>11.232246</td>\n",
       "      <td>1.397712</td>\n",
       "      <td>15490.160611</td>\n",
       "      <td>1.137533</td>\n",
       "    </tr>\n",
       "    <tr>\n",
       "      <th>min</th>\n",
       "      <td>19.000000</td>\n",
       "      <td>9.500000</td>\n",
       "      <td>20000.000000</td>\n",
       "      <td>0.000000</td>\n",
       "    </tr>\n",
       "    <tr>\n",
       "      <th>25%</th>\n",
       "      <td>32.000000</td>\n",
       "      <td>11.000000</td>\n",
       "      <td>36000.000000</td>\n",
       "      <td>1.000000</td>\n",
       "    </tr>\n",
       "    <tr>\n",
       "      <th>50%</th>\n",
       "      <td>37.333333</td>\n",
       "      <td>12.000000</td>\n",
       "      <td>42000.000000</td>\n",
       "      <td>2.148148</td>\n",
       "    </tr>\n",
       "    <tr>\n",
       "      <th>75%</th>\n",
       "      <td>45.000000</td>\n",
       "      <td>12.000000</td>\n",
       "      <td>45000.000000</td>\n",
       "      <td>3.000000</td>\n",
       "    </tr>\n",
       "    <tr>\n",
       "      <th>max</th>\n",
       "      <td>64.500000</td>\n",
       "      <td>13.500000</td>\n",
       "      <td>90000.000000</td>\n",
       "      <td>5.000000</td>\n",
       "    </tr>\n",
       "  </tbody>\n",
       "</table>\n",
       "</div>"
      ],
      "text/plain": [
       "             Age  Experience        Salary   Projects\n",
       "count  33.000000   33.000000     33.000000  33.000000\n",
       "mean   39.924242   11.621212  41984.848485   2.148148\n",
       "std    11.232246    1.397712  15490.160611   1.137533\n",
       "min    19.000000    9.500000  20000.000000   0.000000\n",
       "25%    32.000000   11.000000  36000.000000   1.000000\n",
       "50%    37.333333   12.000000  42000.000000   2.148148\n",
       "75%    45.000000   12.000000  45000.000000   3.000000\n",
       "max    64.500000   13.500000  90000.000000   5.000000"
      ]
     },
     "execution_count": 91,
     "metadata": {},
     "output_type": "execute_result"
    }
   ],
   "source": [
    "df11.describe()"
   ]
  },
  {
   "cell_type": "code",
   "execution_count": 92,
   "id": "b2bf5022",
   "metadata": {},
   "outputs": [],
   "source": [
    "df11[\"Salary\"]=np.where(df11[\"Salary\"]>13.5,13.5,np.where(df11[\"Salary\"]<9.5,9.5,df11[\"Salary\"]))"
   ]
  },
  {
   "cell_type": "code",
   "execution_count": 93,
   "id": "66bb6c3b",
   "metadata": {},
   "outputs": [
    {
     "data": {
      "text/html": [
       "<div>\n",
       "<style scoped>\n",
       "    .dataframe tbody tr th:only-of-type {\n",
       "        vertical-align: middle;\n",
       "    }\n",
       "\n",
       "    .dataframe tbody tr th {\n",
       "        vertical-align: top;\n",
       "    }\n",
       "\n",
       "    .dataframe thead th {\n",
       "        text-align: right;\n",
       "    }\n",
       "</style>\n",
       "<table border=\"1\" class=\"dataframe\">\n",
       "  <thead>\n",
       "    <tr style=\"text-align: right;\">\n",
       "      <th></th>\n",
       "      <th>Age</th>\n",
       "      <th>Experience</th>\n",
       "      <th>Salary</th>\n",
       "      <th>Projects</th>\n",
       "    </tr>\n",
       "  </thead>\n",
       "  <tbody>\n",
       "    <tr>\n",
       "      <th>count</th>\n",
       "      <td>33.000000</td>\n",
       "      <td>33.000000</td>\n",
       "      <td>33.0</td>\n",
       "      <td>33.000000</td>\n",
       "    </tr>\n",
       "    <tr>\n",
       "      <th>mean</th>\n",
       "      <td>39.924242</td>\n",
       "      <td>11.621212</td>\n",
       "      <td>13.5</td>\n",
       "      <td>2.148148</td>\n",
       "    </tr>\n",
       "    <tr>\n",
       "      <th>std</th>\n",
       "      <td>11.232246</td>\n",
       "      <td>1.397712</td>\n",
       "      <td>0.0</td>\n",
       "      <td>1.137533</td>\n",
       "    </tr>\n",
       "    <tr>\n",
       "      <th>min</th>\n",
       "      <td>19.000000</td>\n",
       "      <td>9.500000</td>\n",
       "      <td>13.5</td>\n",
       "      <td>0.000000</td>\n",
       "    </tr>\n",
       "    <tr>\n",
       "      <th>25%</th>\n",
       "      <td>32.000000</td>\n",
       "      <td>11.000000</td>\n",
       "      <td>13.5</td>\n",
       "      <td>1.000000</td>\n",
       "    </tr>\n",
       "    <tr>\n",
       "      <th>50%</th>\n",
       "      <td>37.333333</td>\n",
       "      <td>12.000000</td>\n",
       "      <td>13.5</td>\n",
       "      <td>2.148148</td>\n",
       "    </tr>\n",
       "    <tr>\n",
       "      <th>75%</th>\n",
       "      <td>45.000000</td>\n",
       "      <td>12.000000</td>\n",
       "      <td>13.5</td>\n",
       "      <td>3.000000</td>\n",
       "    </tr>\n",
       "    <tr>\n",
       "      <th>max</th>\n",
       "      <td>64.500000</td>\n",
       "      <td>13.500000</td>\n",
       "      <td>13.5</td>\n",
       "      <td>5.000000</td>\n",
       "    </tr>\n",
       "  </tbody>\n",
       "</table>\n",
       "</div>"
      ],
      "text/plain": [
       "             Age  Experience  Salary   Projects\n",
       "count  33.000000   33.000000    33.0  33.000000\n",
       "mean   39.924242   11.621212    13.5   2.148148\n",
       "std    11.232246    1.397712     0.0   1.137533\n",
       "min    19.000000    9.500000    13.5   0.000000\n",
       "25%    32.000000   11.000000    13.5   1.000000\n",
       "50%    37.333333   12.000000    13.5   2.148148\n",
       "75%    45.000000   12.000000    13.5   3.000000\n",
       "max    64.500000   13.500000    13.5   5.000000"
      ]
     },
     "execution_count": 93,
     "metadata": {},
     "output_type": "execute_result"
    }
   ],
   "source": [
    "df11.describe()"
   ]
  },
  {
   "cell_type": "code",
   "execution_count": 94,
   "id": "c3b8a2f0",
   "metadata": {},
   "outputs": [
    {
     "name": "stdout",
     "output_type": "stream",
     "text": [
      "<class 'pandas.core.frame.DataFrame'>\n",
      "RangeIndex: 33 entries, 0 to 32\n",
      "Data columns (total 6 columns):\n",
      " #   Column      Non-Null Count  Dtype  \n",
      "---  ------      --------------  -----  \n",
      " 0   Dept        33 non-null     object \n",
      " 1   Age         33 non-null     float64\n",
      " 2   Experience  33 non-null     float64\n",
      " 3   Salary      33 non-null     float64\n",
      " 4   Education   33 non-null     object \n",
      " 5   Projects    33 non-null     float64\n",
      "dtypes: float64(4), object(2)\n",
      "memory usage: 1.7+ KB\n"
     ]
    }
   ],
   "source": [
    "df11.info()"
   ]
  },
  {
   "cell_type": "code",
   "execution_count": 95,
   "id": "988a9375",
   "metadata": {},
   "outputs": [],
   "source": [
    "# in capping approach the observations not dropped"
   ]
  },
  {
   "cell_type": "code",
   "execution_count": null,
   "id": "f3fe6fc2",
   "metadata": {},
   "outputs": [],
   "source": []
  },
  {
   "cell_type": "markdown",
   "id": "f4939554",
   "metadata": {},
   "source": [
    "# USING Z-SCORE METHOD"
   ]
  },
  {
   "cell_type": "code",
   "execution_count": 96,
   "id": "ba1042b1",
   "metadata": {},
   "outputs": [],
   "source": [
    "df12=df1.copy()"
   ]
  },
  {
   "cell_type": "code",
   "execution_count": 97,
   "id": "544e5c4a",
   "metadata": {},
   "outputs": [
    {
     "data": {
      "text/html": [
       "<div>\n",
       "<style scoped>\n",
       "    .dataframe tbody tr th:only-of-type {\n",
       "        vertical-align: middle;\n",
       "    }\n",
       "\n",
       "    .dataframe tbody tr th {\n",
       "        vertical-align: top;\n",
       "    }\n",
       "\n",
       "    .dataframe thead th {\n",
       "        text-align: right;\n",
       "    }\n",
       "</style>\n",
       "<table border=\"1\" class=\"dataframe\">\n",
       "  <thead>\n",
       "    <tr style=\"text-align: right;\">\n",
       "      <th></th>\n",
       "      <th>Age</th>\n",
       "      <th>Experience</th>\n",
       "      <th>Salary</th>\n",
       "      <th>Projects</th>\n",
       "    </tr>\n",
       "  </thead>\n",
       "  <tbody>\n",
       "    <tr>\n",
       "      <th>count</th>\n",
       "      <td>33.000000</td>\n",
       "      <td>33.000000</td>\n",
       "      <td>33.000000</td>\n",
       "      <td>33.000000</td>\n",
       "    </tr>\n",
       "    <tr>\n",
       "      <th>mean</th>\n",
       "      <td>40.727273</td>\n",
       "      <td>13.136364</td>\n",
       "      <td>41984.848485</td>\n",
       "      <td>2.148148</td>\n",
       "    </tr>\n",
       "    <tr>\n",
       "      <th>std</th>\n",
       "      <td>13.192342</td>\n",
       "      <td>10.616374</td>\n",
       "      <td>15490.160611</td>\n",
       "      <td>1.137533</td>\n",
       "    </tr>\n",
       "    <tr>\n",
       "      <th>min</th>\n",
       "      <td>19.000000</td>\n",
       "      <td>0.000000</td>\n",
       "      <td>20000.000000</td>\n",
       "      <td>0.000000</td>\n",
       "    </tr>\n",
       "    <tr>\n",
       "      <th>25%</th>\n",
       "      <td>32.000000</td>\n",
       "      <td>11.000000</td>\n",
       "      <td>36000.000000</td>\n",
       "      <td>1.000000</td>\n",
       "    </tr>\n",
       "    <tr>\n",
       "      <th>50%</th>\n",
       "      <td>37.333333</td>\n",
       "      <td>12.000000</td>\n",
       "      <td>42000.000000</td>\n",
       "      <td>2.148148</td>\n",
       "    </tr>\n",
       "    <tr>\n",
       "      <th>75%</th>\n",
       "      <td>45.000000</td>\n",
       "      <td>12.000000</td>\n",
       "      <td>45000.000000</td>\n",
       "      <td>3.000000</td>\n",
       "    </tr>\n",
       "    <tr>\n",
       "      <th>max</th>\n",
       "      <td>75.000000</td>\n",
       "      <td>50.000000</td>\n",
       "      <td>90000.000000</td>\n",
       "      <td>5.000000</td>\n",
       "    </tr>\n",
       "  </tbody>\n",
       "</table>\n",
       "</div>"
      ],
      "text/plain": [
       "             Age  Experience        Salary   Projects\n",
       "count  33.000000   33.000000     33.000000  33.000000\n",
       "mean   40.727273   13.136364  41984.848485   2.148148\n",
       "std    13.192342   10.616374  15490.160611   1.137533\n",
       "min    19.000000    0.000000  20000.000000   0.000000\n",
       "25%    32.000000   11.000000  36000.000000   1.000000\n",
       "50%    37.333333   12.000000  42000.000000   2.148148\n",
       "75%    45.000000   12.000000  45000.000000   3.000000\n",
       "max    75.000000   50.000000  90000.000000   5.000000"
      ]
     },
     "execution_count": 97,
     "metadata": {},
     "output_type": "execute_result"
    }
   ],
   "source": [
    "df12.describe()"
   ]
  },
  {
   "cell_type": "code",
   "execution_count": 98,
   "id": "4fe4a267",
   "metadata": {},
   "outputs": [],
   "source": [
    "# Upper fence=mean+3sd\n",
    "# lower fence=mean-3sd"
   ]
  },
  {
   "cell_type": "code",
   "execution_count": 99,
   "id": "6a5f1f33",
   "metadata": {},
   "outputs": [
    {
     "name": "stdout",
     "output_type": "stream",
     "text": [
      "Upper fence Z score \n",
      " Age              80.304298\n",
      "Experience       44.985484\n",
      "Salary        88455.330318\n",
      "Projects          5.560747\n",
      "dtype: float64\n",
      "Lower fence Z score \n",
      " Age              1.150248\n",
      "Experience     -18.712757\n",
      "Salary       -4485.633348\n",
      "Projects        -1.264451\n",
      "dtype: float64\n"
     ]
    },
    {
     "name": "stderr",
     "output_type": "stream",
     "text": [
      "C:\\Users\\HP\\AppData\\Local\\Temp\\ipykernel_13036\\1994437106.py:1: FutureWarning: Dropping of nuisance columns in DataFrame reductions (with 'numeric_only=None') is deprecated; in a future version this will raise TypeError.  Select only valid columns before calling the reduction.\n",
      "  up_fence=df12.mean()+3*df12.std()\n",
      "C:\\Users\\HP\\AppData\\Local\\Temp\\ipykernel_13036\\1994437106.py:2: FutureWarning: Dropping of nuisance columns in DataFrame reductions (with 'numeric_only=None') is deprecated; in a future version this will raise TypeError.  Select only valid columns before calling the reduction.\n",
      "  lower_fence=df12.mean()-3*df12.std()\n"
     ]
    }
   ],
   "source": [
    "up_fence=df12.mean()+3*df12.std()\n",
    "lower_fence=df12.mean()-3*df12.std()\n",
    "print(\"Upper fence Z score \\n\", up_fence)\n",
    "print(\"Lower fence Z score \\n\", lower_fence)"
   ]
  },
  {
   "cell_type": "markdown",
   "id": "1173bc9b",
   "metadata": {},
   "source": [
    "# label encoding "
   ]
  },
  {
   "cell_type": "markdown",
   "id": "a0593851",
   "metadata": {},
   "source": [
    "Most Machine Learning algorithms cannot work with categorical data \n",
    "and needs to be converted into numerical data."
   ]
  },
  {
   "cell_type": "code",
   "execution_count": 100,
   "id": "da15434b",
   "metadata": {},
   "outputs": [
    {
     "name": "stdout",
     "output_type": "stream",
     "text": [
      "<class 'pandas.core.frame.DataFrame'>\n",
      "RangeIndex: 33 entries, 0 to 32\n",
      "Data columns (total 6 columns):\n",
      " #   Column      Non-Null Count  Dtype  \n",
      "---  ------      --------------  -----  \n",
      " 0   Dept        33 non-null     object \n",
      " 1   Age         33 non-null     float64\n",
      " 2   Experience  33 non-null     float64\n",
      " 3   Salary      33 non-null     float64\n",
      " 4   Education   33 non-null     object \n",
      " 5   Projects    33 non-null     float64\n",
      "dtypes: float64(4), object(2)\n",
      "memory usage: 1.7+ KB\n"
     ]
    }
   ],
   "source": [
    "df11.info()"
   ]
  },
  {
   "cell_type": "code",
   "execution_count": 101,
   "id": "f0a05f69",
   "metadata": {},
   "outputs": [
    {
     "data": {
      "text/html": [
       "<div>\n",
       "<style scoped>\n",
       "    .dataframe tbody tr th:only-of-type {\n",
       "        vertical-align: middle;\n",
       "    }\n",
       "\n",
       "    .dataframe tbody tr th {\n",
       "        vertical-align: top;\n",
       "    }\n",
       "\n",
       "    .dataframe thead th {\n",
       "        text-align: right;\n",
       "    }\n",
       "</style>\n",
       "<table border=\"1\" class=\"dataframe\">\n",
       "  <thead>\n",
       "    <tr style=\"text-align: right;\">\n",
       "      <th></th>\n",
       "      <th>Dept</th>\n",
       "      <th>Age</th>\n",
       "      <th>Experience</th>\n",
       "      <th>Salary</th>\n",
       "      <th>Education</th>\n",
       "      <th>Projects</th>\n",
       "    </tr>\n",
       "  </thead>\n",
       "  <tbody>\n",
       "    <tr>\n",
       "      <th>0</th>\n",
       "      <td>HR</td>\n",
       "      <td>32.000000</td>\n",
       "      <td>9.5</td>\n",
       "      <td>13.5</td>\n",
       "      <td>Under_Graduate</td>\n",
       "      <td>0.0</td>\n",
       "    </tr>\n",
       "    <tr>\n",
       "      <th>1</th>\n",
       "      <td>HR</td>\n",
       "      <td>33.000000</td>\n",
       "      <td>12.0</td>\n",
       "      <td>13.5</td>\n",
       "      <td>Master</td>\n",
       "      <td>0.0</td>\n",
       "    </tr>\n",
       "    <tr>\n",
       "      <th>2</th>\n",
       "      <td>IT</td>\n",
       "      <td>35.000000</td>\n",
       "      <td>12.0</td>\n",
       "      <td>13.5</td>\n",
       "      <td>Master</td>\n",
       "      <td>5.0</td>\n",
       "    </tr>\n",
       "    <tr>\n",
       "      <th>3</th>\n",
       "      <td>IT</td>\n",
       "      <td>37.333333</td>\n",
       "      <td>12.0</td>\n",
       "      <td>13.5</td>\n",
       "      <td>Graduate</td>\n",
       "      <td>5.0</td>\n",
       "    </tr>\n",
       "    <tr>\n",
       "      <th>4</th>\n",
       "      <td>HR</td>\n",
       "      <td>34.000000</td>\n",
       "      <td>11.0</td>\n",
       "      <td>13.5</td>\n",
       "      <td>Graduate</td>\n",
       "      <td>2.0</td>\n",
       "    </tr>\n",
       "  </tbody>\n",
       "</table>\n",
       "</div>"
      ],
      "text/plain": [
       "  Dept        Age  Experience  Salary       Education  Projects\n",
       "0   HR  32.000000         9.5    13.5  Under_Graduate       0.0\n",
       "1   HR  33.000000        12.0    13.5          Master       0.0\n",
       "2   IT  35.000000        12.0    13.5          Master       5.0\n",
       "3   IT  37.333333        12.0    13.5        Graduate       5.0\n",
       "4   HR  34.000000        11.0    13.5        Graduate       2.0"
      ]
     },
     "execution_count": 101,
     "metadata": {},
     "output_type": "execute_result"
    }
   ],
   "source": [
    "df11.head()"
   ]
  },
  {
   "cell_type": "code",
   "execution_count": 102,
   "id": "f36beec8",
   "metadata": {},
   "outputs": [
    {
     "data": {
      "text/plain": [
       "HR           15\n",
       "IT            8\n",
       "Sales         6\n",
       "Marketing     4\n",
       "Name: Dept, dtype: int64"
      ]
     },
     "execution_count": 102,
     "metadata": {},
     "output_type": "execute_result"
    }
   ],
   "source": [
    "df11[\"Dept\"].value_counts()"
   ]
  },
  {
   "cell_type": "code",
   "execution_count": 103,
   "id": "febb638c",
   "metadata": {},
   "outputs": [
    {
     "data": {
      "text/plain": [
       "Master            16\n",
       "Under_Graduate     9\n",
       "Graduate           8\n",
       "Name: Education, dtype: int64"
      ]
     },
     "execution_count": 103,
     "metadata": {},
     "output_type": "execute_result"
    }
   ],
   "source": [
    "df11[\"Education\"].value_counts()"
   ]
  },
  {
   "cell_type": "code",
   "execution_count": 104,
   "id": "37c36889",
   "metadata": {},
   "outputs": [],
   "source": [
    "# function astype approach"
   ]
  },
  {
   "cell_type": "code",
   "execution_count": 105,
   "id": "a244364a",
   "metadata": {},
   "outputs": [],
   "source": [
    "df12=df11.copy()"
   ]
  },
  {
   "cell_type": "code",
   "execution_count": 106,
   "id": "7fef1272",
   "metadata": {},
   "outputs": [],
   "source": [
    "df12[\"Dept\"]=df12[\"Dept\"].astype(\"category\")\n",
    "\n"
   ]
  },
  {
   "cell_type": "code",
   "execution_count": 107,
   "id": "82690bbf",
   "metadata": {},
   "outputs": [
    {
     "data": {
      "text/html": [
       "<div>\n",
       "<style scoped>\n",
       "    .dataframe tbody tr th:only-of-type {\n",
       "        vertical-align: middle;\n",
       "    }\n",
       "\n",
       "    .dataframe tbody tr th {\n",
       "        vertical-align: top;\n",
       "    }\n",
       "\n",
       "    .dataframe thead th {\n",
       "        text-align: right;\n",
       "    }\n",
       "</style>\n",
       "<table border=\"1\" class=\"dataframe\">\n",
       "  <thead>\n",
       "    <tr style=\"text-align: right;\">\n",
       "      <th></th>\n",
       "      <th>Dept</th>\n",
       "      <th>Age</th>\n",
       "      <th>Experience</th>\n",
       "      <th>Salary</th>\n",
       "      <th>Education</th>\n",
       "      <th>Projects</th>\n",
       "    </tr>\n",
       "  </thead>\n",
       "  <tbody>\n",
       "    <tr>\n",
       "      <th>0</th>\n",
       "      <td>HR</td>\n",
       "      <td>32.000000</td>\n",
       "      <td>9.5</td>\n",
       "      <td>13.5</td>\n",
       "      <td>Under_Graduate</td>\n",
       "      <td>0.0</td>\n",
       "    </tr>\n",
       "    <tr>\n",
       "      <th>1</th>\n",
       "      <td>HR</td>\n",
       "      <td>33.000000</td>\n",
       "      <td>12.0</td>\n",
       "      <td>13.5</td>\n",
       "      <td>Master</td>\n",
       "      <td>0.0</td>\n",
       "    </tr>\n",
       "    <tr>\n",
       "      <th>2</th>\n",
       "      <td>IT</td>\n",
       "      <td>35.000000</td>\n",
       "      <td>12.0</td>\n",
       "      <td>13.5</td>\n",
       "      <td>Master</td>\n",
       "      <td>5.0</td>\n",
       "    </tr>\n",
       "    <tr>\n",
       "      <th>3</th>\n",
       "      <td>IT</td>\n",
       "      <td>37.333333</td>\n",
       "      <td>12.0</td>\n",
       "      <td>13.5</td>\n",
       "      <td>Graduate</td>\n",
       "      <td>5.0</td>\n",
       "    </tr>\n",
       "    <tr>\n",
       "      <th>4</th>\n",
       "      <td>HR</td>\n",
       "      <td>34.000000</td>\n",
       "      <td>11.0</td>\n",
       "      <td>13.5</td>\n",
       "      <td>Graduate</td>\n",
       "      <td>2.0</td>\n",
       "    </tr>\n",
       "  </tbody>\n",
       "</table>\n",
       "</div>"
      ],
      "text/plain": [
       "  Dept        Age  Experience  Salary       Education  Projects\n",
       "0   HR  32.000000         9.5    13.5  Under_Graduate       0.0\n",
       "1   HR  33.000000        12.0    13.5          Master       0.0\n",
       "2   IT  35.000000        12.0    13.5          Master       5.0\n",
       "3   IT  37.333333        12.0    13.5        Graduate       5.0\n",
       "4   HR  34.000000        11.0    13.5        Graduate       2.0"
      ]
     },
     "execution_count": 107,
     "metadata": {},
     "output_type": "execute_result"
    }
   ],
   "source": [
    "df12.head()"
   ]
  },
  {
   "cell_type": "code",
   "execution_count": 108,
   "id": "12272f3f",
   "metadata": {},
   "outputs": [],
   "source": [
    "df12[\"Dept\"]=df12[\"Dept\"].cat.codes"
   ]
  },
  {
   "cell_type": "code",
   "execution_count": 109,
   "id": "0e35a0a2",
   "metadata": {},
   "outputs": [
    {
     "data": {
      "text/html": [
       "<div>\n",
       "<style scoped>\n",
       "    .dataframe tbody tr th:only-of-type {\n",
       "        vertical-align: middle;\n",
       "    }\n",
       "\n",
       "    .dataframe tbody tr th {\n",
       "        vertical-align: top;\n",
       "    }\n",
       "\n",
       "    .dataframe thead th {\n",
       "        text-align: right;\n",
       "    }\n",
       "</style>\n",
       "<table border=\"1\" class=\"dataframe\">\n",
       "  <thead>\n",
       "    <tr style=\"text-align: right;\">\n",
       "      <th></th>\n",
       "      <th>Dept</th>\n",
       "      <th>Age</th>\n",
       "      <th>Experience</th>\n",
       "      <th>Salary</th>\n",
       "      <th>Education</th>\n",
       "      <th>Projects</th>\n",
       "    </tr>\n",
       "  </thead>\n",
       "  <tbody>\n",
       "    <tr>\n",
       "      <th>0</th>\n",
       "      <td>0</td>\n",
       "      <td>32.000000</td>\n",
       "      <td>9.5</td>\n",
       "      <td>13.5</td>\n",
       "      <td>Under_Graduate</td>\n",
       "      <td>0.0</td>\n",
       "    </tr>\n",
       "    <tr>\n",
       "      <th>1</th>\n",
       "      <td>0</td>\n",
       "      <td>33.000000</td>\n",
       "      <td>12.0</td>\n",
       "      <td>13.5</td>\n",
       "      <td>Master</td>\n",
       "      <td>0.0</td>\n",
       "    </tr>\n",
       "    <tr>\n",
       "      <th>2</th>\n",
       "      <td>1</td>\n",
       "      <td>35.000000</td>\n",
       "      <td>12.0</td>\n",
       "      <td>13.5</td>\n",
       "      <td>Master</td>\n",
       "      <td>5.0</td>\n",
       "    </tr>\n",
       "    <tr>\n",
       "      <th>3</th>\n",
       "      <td>1</td>\n",
       "      <td>37.333333</td>\n",
       "      <td>12.0</td>\n",
       "      <td>13.5</td>\n",
       "      <td>Graduate</td>\n",
       "      <td>5.0</td>\n",
       "    </tr>\n",
       "    <tr>\n",
       "      <th>4</th>\n",
       "      <td>0</td>\n",
       "      <td>34.000000</td>\n",
       "      <td>11.0</td>\n",
       "      <td>13.5</td>\n",
       "      <td>Graduate</td>\n",
       "      <td>2.0</td>\n",
       "    </tr>\n",
       "  </tbody>\n",
       "</table>\n",
       "</div>"
      ],
      "text/plain": [
       "   Dept        Age  Experience  Salary       Education  Projects\n",
       "0     0  32.000000         9.5    13.5  Under_Graduate       0.0\n",
       "1     0  33.000000        12.0    13.5          Master       0.0\n",
       "2     1  35.000000        12.0    13.5          Master       5.0\n",
       "3     1  37.333333        12.0    13.5        Graduate       5.0\n",
       "4     0  34.000000        11.0    13.5        Graduate       2.0"
      ]
     },
     "execution_count": 109,
     "metadata": {},
     "output_type": "execute_result"
    }
   ],
   "source": [
    "df12.head()"
   ]
  },
  {
   "cell_type": "code",
   "execution_count": 110,
   "id": "1157f999",
   "metadata": {},
   "outputs": [],
   "source": [
    "df12[\"Education\"]=df12[\"Education\"].astype(\"category\").cat.codes"
   ]
  },
  {
   "cell_type": "code",
   "execution_count": 111,
   "id": "a6a0a756",
   "metadata": {},
   "outputs": [
    {
     "data": {
      "text/html": [
       "<div>\n",
       "<style scoped>\n",
       "    .dataframe tbody tr th:only-of-type {\n",
       "        vertical-align: middle;\n",
       "    }\n",
       "\n",
       "    .dataframe tbody tr th {\n",
       "        vertical-align: top;\n",
       "    }\n",
       "\n",
       "    .dataframe thead th {\n",
       "        text-align: right;\n",
       "    }\n",
       "</style>\n",
       "<table border=\"1\" class=\"dataframe\">\n",
       "  <thead>\n",
       "    <tr style=\"text-align: right;\">\n",
       "      <th></th>\n",
       "      <th>Dept</th>\n",
       "      <th>Age</th>\n",
       "      <th>Experience</th>\n",
       "      <th>Salary</th>\n",
       "      <th>Education</th>\n",
       "      <th>Projects</th>\n",
       "    </tr>\n",
       "  </thead>\n",
       "  <tbody>\n",
       "    <tr>\n",
       "      <th>0</th>\n",
       "      <td>0</td>\n",
       "      <td>32.000000</td>\n",
       "      <td>9.5</td>\n",
       "      <td>13.5</td>\n",
       "      <td>2</td>\n",
       "      <td>0.0</td>\n",
       "    </tr>\n",
       "    <tr>\n",
       "      <th>1</th>\n",
       "      <td>0</td>\n",
       "      <td>33.000000</td>\n",
       "      <td>12.0</td>\n",
       "      <td>13.5</td>\n",
       "      <td>1</td>\n",
       "      <td>0.0</td>\n",
       "    </tr>\n",
       "    <tr>\n",
       "      <th>2</th>\n",
       "      <td>1</td>\n",
       "      <td>35.000000</td>\n",
       "      <td>12.0</td>\n",
       "      <td>13.5</td>\n",
       "      <td>1</td>\n",
       "      <td>5.0</td>\n",
       "    </tr>\n",
       "    <tr>\n",
       "      <th>3</th>\n",
       "      <td>1</td>\n",
       "      <td>37.333333</td>\n",
       "      <td>12.0</td>\n",
       "      <td>13.5</td>\n",
       "      <td>0</td>\n",
       "      <td>5.0</td>\n",
       "    </tr>\n",
       "    <tr>\n",
       "      <th>4</th>\n",
       "      <td>0</td>\n",
       "      <td>34.000000</td>\n",
       "      <td>11.0</td>\n",
       "      <td>13.5</td>\n",
       "      <td>0</td>\n",
       "      <td>2.0</td>\n",
       "    </tr>\n",
       "  </tbody>\n",
       "</table>\n",
       "</div>"
      ],
      "text/plain": [
       "   Dept        Age  Experience  Salary  Education  Projects\n",
       "0     0  32.000000         9.5    13.5          2       0.0\n",
       "1     0  33.000000        12.0    13.5          1       0.0\n",
       "2     1  35.000000        12.0    13.5          1       5.0\n",
       "3     1  37.333333        12.0    13.5          0       5.0\n",
       "4     0  34.000000        11.0    13.5          0       2.0"
      ]
     },
     "execution_count": 111,
     "metadata": {},
     "output_type": "execute_result"
    }
   ],
   "source": [
    "df12.head()"
   ]
  },
  {
   "cell_type": "code",
   "execution_count": 112,
   "id": "5a1eb638",
   "metadata": {},
   "outputs": [
    {
     "name": "stdout",
     "output_type": "stream",
     "text": [
      "<class 'pandas.core.frame.DataFrame'>\n",
      "RangeIndex: 33 entries, 0 to 32\n",
      "Data columns (total 6 columns):\n",
      " #   Column      Non-Null Count  Dtype  \n",
      "---  ------      --------------  -----  \n",
      " 0   Dept        33 non-null     int8   \n",
      " 1   Age         33 non-null     float64\n",
      " 2   Experience  33 non-null     float64\n",
      " 3   Salary      33 non-null     float64\n",
      " 4   Education   33 non-null     int8   \n",
      " 5   Projects    33 non-null     float64\n",
      "dtypes: float64(4), int8(2)\n",
      "memory usage: 1.2 KB\n"
     ]
    }
   ],
   "source": [
    "df12.info()"
   ]
  },
  {
   "cell_type": "code",
   "execution_count": 113,
   "id": "0aa18a1a",
   "metadata": {},
   "outputs": [
    {
     "data": {
      "text/html": [
       "<div>\n",
       "<style scoped>\n",
       "    .dataframe tbody tr th:only-of-type {\n",
       "        vertical-align: middle;\n",
       "    }\n",
       "\n",
       "    .dataframe tbody tr th {\n",
       "        vertical-align: top;\n",
       "    }\n",
       "\n",
       "    .dataframe thead th {\n",
       "        text-align: right;\n",
       "    }\n",
       "</style>\n",
       "<table border=\"1\" class=\"dataframe\">\n",
       "  <thead>\n",
       "    <tr style=\"text-align: right;\">\n",
       "      <th></th>\n",
       "      <th>Dept</th>\n",
       "      <th>Age</th>\n",
       "      <th>Experience</th>\n",
       "      <th>Salary</th>\n",
       "      <th>Education</th>\n",
       "      <th>Projects</th>\n",
       "    </tr>\n",
       "  </thead>\n",
       "  <tbody>\n",
       "    <tr>\n",
       "      <th>0</th>\n",
       "      <td>HR</td>\n",
       "      <td>32.000000</td>\n",
       "      <td>9.5</td>\n",
       "      <td>13.5</td>\n",
       "      <td>Under_Graduate</td>\n",
       "      <td>0.0</td>\n",
       "    </tr>\n",
       "    <tr>\n",
       "      <th>1</th>\n",
       "      <td>HR</td>\n",
       "      <td>33.000000</td>\n",
       "      <td>12.0</td>\n",
       "      <td>13.5</td>\n",
       "      <td>Master</td>\n",
       "      <td>0.0</td>\n",
       "    </tr>\n",
       "    <tr>\n",
       "      <th>2</th>\n",
       "      <td>IT</td>\n",
       "      <td>35.000000</td>\n",
       "      <td>12.0</td>\n",
       "      <td>13.5</td>\n",
       "      <td>Master</td>\n",
       "      <td>5.0</td>\n",
       "    </tr>\n",
       "    <tr>\n",
       "      <th>3</th>\n",
       "      <td>IT</td>\n",
       "      <td>37.333333</td>\n",
       "      <td>12.0</td>\n",
       "      <td>13.5</td>\n",
       "      <td>Graduate</td>\n",
       "      <td>5.0</td>\n",
       "    </tr>\n",
       "    <tr>\n",
       "      <th>4</th>\n",
       "      <td>HR</td>\n",
       "      <td>34.000000</td>\n",
       "      <td>11.0</td>\n",
       "      <td>13.5</td>\n",
       "      <td>Graduate</td>\n",
       "      <td>2.0</td>\n",
       "    </tr>\n",
       "  </tbody>\n",
       "</table>\n",
       "</div>"
      ],
      "text/plain": [
       "  Dept        Age  Experience  Salary       Education  Projects\n",
       "0   HR  32.000000         9.5    13.5  Under_Graduate       0.0\n",
       "1   HR  33.000000        12.0    13.5          Master       0.0\n",
       "2   IT  35.000000        12.0    13.5          Master       5.0\n",
       "3   IT  37.333333        12.0    13.5        Graduate       5.0\n",
       "4   HR  34.000000        11.0    13.5        Graduate       2.0"
      ]
     },
     "execution_count": 113,
     "metadata": {},
     "output_type": "execute_result"
    }
   ],
   "source": [
    "df11.head()"
   ]
  },
  {
   "cell_type": "markdown",
   "id": "e758578e",
   "metadata": {},
   "source": [
    "# second approach- sklearn label encoder"
   ]
  },
  {
   "cell_type": "code",
   "execution_count": 114,
   "id": "0832d843",
   "metadata": {},
   "outputs": [],
   "source": [
    "df13=df11.copy()"
   ]
  },
  {
   "cell_type": "code",
   "execution_count": 115,
   "id": "f1ddeed8",
   "metadata": {},
   "outputs": [],
   "source": [
    "from sklearn import preprocessing"
   ]
  },
  {
   "cell_type": "code",
   "execution_count": 116,
   "id": "753eaeec",
   "metadata": {},
   "outputs": [],
   "source": [
    "label=preprocessing.LabelEncoder()"
   ]
  },
  {
   "cell_type": "code",
   "execution_count": 117,
   "id": "c7e8a297",
   "metadata": {},
   "outputs": [],
   "source": [
    "df13[\"Dept\"]=label.fit_transform(df13[\"Dept\"])"
   ]
  },
  {
   "cell_type": "code",
   "execution_count": 118,
   "id": "4c2d4350",
   "metadata": {},
   "outputs": [],
   "source": [
    "df13[\"Education\"]=label.fit_transform(df13[\"Education\"])"
   ]
  },
  {
   "cell_type": "code",
   "execution_count": 119,
   "id": "836919e6",
   "metadata": {},
   "outputs": [
    {
     "data": {
      "text/html": [
       "<div>\n",
       "<style scoped>\n",
       "    .dataframe tbody tr th:only-of-type {\n",
       "        vertical-align: middle;\n",
       "    }\n",
       "\n",
       "    .dataframe tbody tr th {\n",
       "        vertical-align: top;\n",
       "    }\n",
       "\n",
       "    .dataframe thead th {\n",
       "        text-align: right;\n",
       "    }\n",
       "</style>\n",
       "<table border=\"1\" class=\"dataframe\">\n",
       "  <thead>\n",
       "    <tr style=\"text-align: right;\">\n",
       "      <th></th>\n",
       "      <th>Dept</th>\n",
       "      <th>Age</th>\n",
       "      <th>Experience</th>\n",
       "      <th>Salary</th>\n",
       "      <th>Education</th>\n",
       "      <th>Projects</th>\n",
       "    </tr>\n",
       "  </thead>\n",
       "  <tbody>\n",
       "    <tr>\n",
       "      <th>0</th>\n",
       "      <td>0</td>\n",
       "      <td>32.000000</td>\n",
       "      <td>9.5</td>\n",
       "      <td>13.5</td>\n",
       "      <td>2</td>\n",
       "      <td>0.0</td>\n",
       "    </tr>\n",
       "    <tr>\n",
       "      <th>1</th>\n",
       "      <td>0</td>\n",
       "      <td>33.000000</td>\n",
       "      <td>12.0</td>\n",
       "      <td>13.5</td>\n",
       "      <td>1</td>\n",
       "      <td>0.0</td>\n",
       "    </tr>\n",
       "    <tr>\n",
       "      <th>2</th>\n",
       "      <td>1</td>\n",
       "      <td>35.000000</td>\n",
       "      <td>12.0</td>\n",
       "      <td>13.5</td>\n",
       "      <td>1</td>\n",
       "      <td>5.0</td>\n",
       "    </tr>\n",
       "    <tr>\n",
       "      <th>3</th>\n",
       "      <td>1</td>\n",
       "      <td>37.333333</td>\n",
       "      <td>12.0</td>\n",
       "      <td>13.5</td>\n",
       "      <td>0</td>\n",
       "      <td>5.0</td>\n",
       "    </tr>\n",
       "    <tr>\n",
       "      <th>4</th>\n",
       "      <td>0</td>\n",
       "      <td>34.000000</td>\n",
       "      <td>11.0</td>\n",
       "      <td>13.5</td>\n",
       "      <td>0</td>\n",
       "      <td>2.0</td>\n",
       "    </tr>\n",
       "  </tbody>\n",
       "</table>\n",
       "</div>"
      ],
      "text/plain": [
       "   Dept        Age  Experience  Salary  Education  Projects\n",
       "0     0  32.000000         9.5    13.5          2       0.0\n",
       "1     0  33.000000        12.0    13.5          1       0.0\n",
       "2     1  35.000000        12.0    13.5          1       5.0\n",
       "3     1  37.333333        12.0    13.5          0       5.0\n",
       "4     0  34.000000        11.0    13.5          0       2.0"
      ]
     },
     "execution_count": 119,
     "metadata": {},
     "output_type": "execute_result"
    }
   ],
   "source": [
    "df13.head()"
   ]
  },
  {
   "cell_type": "markdown",
   "id": "b16235c8",
   "metadata": {},
   "source": [
    "# one hot encoding"
   ]
  },
  {
   "cell_type": "code",
   "execution_count": 120,
   "id": "6c81007b",
   "metadata": {},
   "outputs": [],
   "source": [
    "# it will increase the no. of columns / dimensions "
   ]
  },
  {
   "cell_type": "markdown",
   "id": "04b632c4",
   "metadata": {},
   "source": [
    "The advantages of using one hot encoding include:\n",
    "It allows the use of categorical variables in models that require numerical input.\n",
    "It can improve model performance by providing more information to the model \n",
    "about the categorical variable."
   ]
  },
  {
   "cell_type": "markdown",
   "id": "fd698be6",
   "metadata": {},
   "source": [
    "The disadvantages of using one hot encoding include:-\n",
    "    \n",
    "It can lead to increased dimensionality, This can make the model more complex and \n",
    "slow to train.\n",
    " \n",
    "It can lead to sparse data, as most observations will have a value of \n",
    "0 in most of the one-hot encoded columns.\n",
    "\n",
    "Also create overfitting if the dataset is small.\n"
   ]
  },
  {
   "cell_type": "markdown",
   "id": "f2d99956",
   "metadata": {},
   "source": [
    "conclusion:-One-hot-encoding is a powerful technique , \n",
    "but it can lead to increased dimensionality, sparsity and overfitting. \n",
    "It is important to use it cautiously,"
   ]
  },
  {
   "cell_type": "code",
   "execution_count": 121,
   "id": "84bb8b03",
   "metadata": {},
   "outputs": [],
   "source": [
    "#get_dummies approach"
   ]
  },
  {
   "cell_type": "code",
   "execution_count": 122,
   "id": "a2a7552c",
   "metadata": {},
   "outputs": [
    {
     "data": {
      "text/html": [
       "<div>\n",
       "<style scoped>\n",
       "    .dataframe tbody tr th:only-of-type {\n",
       "        vertical-align: middle;\n",
       "    }\n",
       "\n",
       "    .dataframe tbody tr th {\n",
       "        vertical-align: top;\n",
       "    }\n",
       "\n",
       "    .dataframe thead th {\n",
       "        text-align: right;\n",
       "    }\n",
       "</style>\n",
       "<table border=\"1\" class=\"dataframe\">\n",
       "  <thead>\n",
       "    <tr style=\"text-align: right;\">\n",
       "      <th></th>\n",
       "      <th>Dept</th>\n",
       "      <th>Age</th>\n",
       "      <th>Experience</th>\n",
       "      <th>Salary</th>\n",
       "      <th>Education</th>\n",
       "      <th>Projects</th>\n",
       "    </tr>\n",
       "  </thead>\n",
       "  <tbody>\n",
       "    <tr>\n",
       "      <th>0</th>\n",
       "      <td>HR</td>\n",
       "      <td>32.000000</td>\n",
       "      <td>9.5</td>\n",
       "      <td>13.5</td>\n",
       "      <td>Under_Graduate</td>\n",
       "      <td>0.0</td>\n",
       "    </tr>\n",
       "    <tr>\n",
       "      <th>1</th>\n",
       "      <td>HR</td>\n",
       "      <td>33.000000</td>\n",
       "      <td>12.0</td>\n",
       "      <td>13.5</td>\n",
       "      <td>Master</td>\n",
       "      <td>0.0</td>\n",
       "    </tr>\n",
       "    <tr>\n",
       "      <th>2</th>\n",
       "      <td>IT</td>\n",
       "      <td>35.000000</td>\n",
       "      <td>12.0</td>\n",
       "      <td>13.5</td>\n",
       "      <td>Master</td>\n",
       "      <td>5.0</td>\n",
       "    </tr>\n",
       "    <tr>\n",
       "      <th>3</th>\n",
       "      <td>IT</td>\n",
       "      <td>37.333333</td>\n",
       "      <td>12.0</td>\n",
       "      <td>13.5</td>\n",
       "      <td>Graduate</td>\n",
       "      <td>5.0</td>\n",
       "    </tr>\n",
       "    <tr>\n",
       "      <th>4</th>\n",
       "      <td>HR</td>\n",
       "      <td>34.000000</td>\n",
       "      <td>11.0</td>\n",
       "      <td>13.5</td>\n",
       "      <td>Graduate</td>\n",
       "      <td>2.0</td>\n",
       "    </tr>\n",
       "  </tbody>\n",
       "</table>\n",
       "</div>"
      ],
      "text/plain": [
       "  Dept        Age  Experience  Salary       Education  Projects\n",
       "0   HR  32.000000         9.5    13.5  Under_Graduate       0.0\n",
       "1   HR  33.000000        12.0    13.5          Master       0.0\n",
       "2   IT  35.000000        12.0    13.5          Master       5.0\n",
       "3   IT  37.333333        12.0    13.5        Graduate       5.0\n",
       "4   HR  34.000000        11.0    13.5        Graduate       2.0"
      ]
     },
     "execution_count": 122,
     "metadata": {},
     "output_type": "execute_result"
    }
   ],
   "source": [
    "df11.head()"
   ]
  },
  {
   "cell_type": "code",
   "execution_count": 123,
   "id": "e077489c",
   "metadata": {},
   "outputs": [
    {
     "name": "stdout",
     "output_type": "stream",
     "text": [
      "<class 'pandas.core.frame.DataFrame'>\n",
      "RangeIndex: 33 entries, 0 to 32\n",
      "Data columns (total 6 columns):\n",
      " #   Column      Non-Null Count  Dtype  \n",
      "---  ------      --------------  -----  \n",
      " 0   Dept        33 non-null     object \n",
      " 1   Age         33 non-null     float64\n",
      " 2   Experience  33 non-null     float64\n",
      " 3   Salary      33 non-null     float64\n",
      " 4   Education   33 non-null     object \n",
      " 5   Projects    33 non-null     float64\n",
      "dtypes: float64(4), object(2)\n",
      "memory usage: 1.7+ KB\n"
     ]
    }
   ],
   "source": [
    "df11.info()"
   ]
  },
  {
   "cell_type": "code",
   "execution_count": 124,
   "id": "f04bb61c",
   "metadata": {},
   "outputs": [],
   "source": [
    "# just passing one function pd.get_dummies we can convert the categorical to numerical also applied the one hot."
   ]
  },
  {
   "cell_type": "code",
   "execution_count": 125,
   "id": "ab98b461",
   "metadata": {},
   "outputs": [],
   "source": [
    "df14=pd.get_dummies(df11,columns=[\"Dept\",\"Education\"])"
   ]
  },
  {
   "cell_type": "code",
   "execution_count": 126,
   "id": "084ef03b",
   "metadata": {},
   "outputs": [
    {
     "data": {
      "text/html": [
       "<div>\n",
       "<style scoped>\n",
       "    .dataframe tbody tr th:only-of-type {\n",
       "        vertical-align: middle;\n",
       "    }\n",
       "\n",
       "    .dataframe tbody tr th {\n",
       "        vertical-align: top;\n",
       "    }\n",
       "\n",
       "    .dataframe thead th {\n",
       "        text-align: right;\n",
       "    }\n",
       "</style>\n",
       "<table border=\"1\" class=\"dataframe\">\n",
       "  <thead>\n",
       "    <tr style=\"text-align: right;\">\n",
       "      <th></th>\n",
       "      <th>Age</th>\n",
       "      <th>Experience</th>\n",
       "      <th>Salary</th>\n",
       "      <th>Projects</th>\n",
       "      <th>Dept_HR</th>\n",
       "      <th>Dept_IT</th>\n",
       "      <th>Dept_Marketing</th>\n",
       "      <th>Dept_Sales</th>\n",
       "      <th>Education_Graduate</th>\n",
       "      <th>Education_Master</th>\n",
       "      <th>Education_Under_Graduate</th>\n",
       "    </tr>\n",
       "  </thead>\n",
       "  <tbody>\n",
       "    <tr>\n",
       "      <th>0</th>\n",
       "      <td>32.000000</td>\n",
       "      <td>9.5</td>\n",
       "      <td>13.5</td>\n",
       "      <td>0.0</td>\n",
       "      <td>1</td>\n",
       "      <td>0</td>\n",
       "      <td>0</td>\n",
       "      <td>0</td>\n",
       "      <td>0</td>\n",
       "      <td>0</td>\n",
       "      <td>1</td>\n",
       "    </tr>\n",
       "    <tr>\n",
       "      <th>1</th>\n",
       "      <td>33.000000</td>\n",
       "      <td>12.0</td>\n",
       "      <td>13.5</td>\n",
       "      <td>0.0</td>\n",
       "      <td>1</td>\n",
       "      <td>0</td>\n",
       "      <td>0</td>\n",
       "      <td>0</td>\n",
       "      <td>0</td>\n",
       "      <td>1</td>\n",
       "      <td>0</td>\n",
       "    </tr>\n",
       "    <tr>\n",
       "      <th>2</th>\n",
       "      <td>35.000000</td>\n",
       "      <td>12.0</td>\n",
       "      <td>13.5</td>\n",
       "      <td>5.0</td>\n",
       "      <td>0</td>\n",
       "      <td>1</td>\n",
       "      <td>0</td>\n",
       "      <td>0</td>\n",
       "      <td>0</td>\n",
       "      <td>1</td>\n",
       "      <td>0</td>\n",
       "    </tr>\n",
       "    <tr>\n",
       "      <th>3</th>\n",
       "      <td>37.333333</td>\n",
       "      <td>12.0</td>\n",
       "      <td>13.5</td>\n",
       "      <td>5.0</td>\n",
       "      <td>0</td>\n",
       "      <td>1</td>\n",
       "      <td>0</td>\n",
       "      <td>0</td>\n",
       "      <td>1</td>\n",
       "      <td>0</td>\n",
       "      <td>0</td>\n",
       "    </tr>\n",
       "    <tr>\n",
       "      <th>4</th>\n",
       "      <td>34.000000</td>\n",
       "      <td>11.0</td>\n",
       "      <td>13.5</td>\n",
       "      <td>2.0</td>\n",
       "      <td>1</td>\n",
       "      <td>0</td>\n",
       "      <td>0</td>\n",
       "      <td>0</td>\n",
       "      <td>1</td>\n",
       "      <td>0</td>\n",
       "      <td>0</td>\n",
       "    </tr>\n",
       "  </tbody>\n",
       "</table>\n",
       "</div>"
      ],
      "text/plain": [
       "         Age  Experience  Salary  Projects  Dept_HR  Dept_IT  Dept_Marketing  \\\n",
       "0  32.000000         9.5    13.5       0.0        1        0               0   \n",
       "1  33.000000        12.0    13.5       0.0        1        0               0   \n",
       "2  35.000000        12.0    13.5       5.0        0        1               0   \n",
       "3  37.333333        12.0    13.5       5.0        0        1               0   \n",
       "4  34.000000        11.0    13.5       2.0        1        0               0   \n",
       "\n",
       "   Dept_Sales  Education_Graduate  Education_Master  Education_Under_Graduate  \n",
       "0           0                   0                 0                         1  \n",
       "1           0                   0                 1                         0  \n",
       "2           0                   0                 1                         0  \n",
       "3           0                   1                 0                         0  \n",
       "4           0                   1                 0                         0  "
      ]
     },
     "execution_count": 126,
     "metadata": {},
     "output_type": "execute_result"
    }
   ],
   "source": [
    "df14.head()"
   ]
  },
  {
   "cell_type": "code",
   "execution_count": 127,
   "id": "d80a91d2",
   "metadata": {},
   "outputs": [],
   "source": [
    "# we should drop the dummy column becoz we  are not learning any new information."
   ]
  },
  {
   "cell_type": "code",
   "execution_count": 128,
   "id": "dba0f337",
   "metadata": {},
   "outputs": [],
   "source": [
    "df14_dropdummy=df14.drop([\"Dept_HR\",\"Education_Graduate\"],axis=1)"
   ]
  },
  {
   "cell_type": "code",
   "execution_count": 129,
   "id": "9f06d212",
   "metadata": {},
   "outputs": [
    {
     "data": {
      "text/html": [
       "<div>\n",
       "<style scoped>\n",
       "    .dataframe tbody tr th:only-of-type {\n",
       "        vertical-align: middle;\n",
       "    }\n",
       "\n",
       "    .dataframe tbody tr th {\n",
       "        vertical-align: top;\n",
       "    }\n",
       "\n",
       "    .dataframe thead th {\n",
       "        text-align: right;\n",
       "    }\n",
       "</style>\n",
       "<table border=\"1\" class=\"dataframe\">\n",
       "  <thead>\n",
       "    <tr style=\"text-align: right;\">\n",
       "      <th></th>\n",
       "      <th>Age</th>\n",
       "      <th>Experience</th>\n",
       "      <th>Salary</th>\n",
       "      <th>Projects</th>\n",
       "      <th>Dept_IT</th>\n",
       "      <th>Dept_Marketing</th>\n",
       "      <th>Dept_Sales</th>\n",
       "      <th>Education_Master</th>\n",
       "      <th>Education_Under_Graduate</th>\n",
       "    </tr>\n",
       "  </thead>\n",
       "  <tbody>\n",
       "    <tr>\n",
       "      <th>0</th>\n",
       "      <td>32.000000</td>\n",
       "      <td>9.5</td>\n",
       "      <td>13.5</td>\n",
       "      <td>0.0</td>\n",
       "      <td>0</td>\n",
       "      <td>0</td>\n",
       "      <td>0</td>\n",
       "      <td>0</td>\n",
       "      <td>1</td>\n",
       "    </tr>\n",
       "    <tr>\n",
       "      <th>1</th>\n",
       "      <td>33.000000</td>\n",
       "      <td>12.0</td>\n",
       "      <td>13.5</td>\n",
       "      <td>0.0</td>\n",
       "      <td>0</td>\n",
       "      <td>0</td>\n",
       "      <td>0</td>\n",
       "      <td>1</td>\n",
       "      <td>0</td>\n",
       "    </tr>\n",
       "    <tr>\n",
       "      <th>2</th>\n",
       "      <td>35.000000</td>\n",
       "      <td>12.0</td>\n",
       "      <td>13.5</td>\n",
       "      <td>5.0</td>\n",
       "      <td>1</td>\n",
       "      <td>0</td>\n",
       "      <td>0</td>\n",
       "      <td>1</td>\n",
       "      <td>0</td>\n",
       "    </tr>\n",
       "    <tr>\n",
       "      <th>3</th>\n",
       "      <td>37.333333</td>\n",
       "      <td>12.0</td>\n",
       "      <td>13.5</td>\n",
       "      <td>5.0</td>\n",
       "      <td>1</td>\n",
       "      <td>0</td>\n",
       "      <td>0</td>\n",
       "      <td>0</td>\n",
       "      <td>0</td>\n",
       "    </tr>\n",
       "    <tr>\n",
       "      <th>4</th>\n",
       "      <td>34.000000</td>\n",
       "      <td>11.0</td>\n",
       "      <td>13.5</td>\n",
       "      <td>2.0</td>\n",
       "      <td>0</td>\n",
       "      <td>0</td>\n",
       "      <td>0</td>\n",
       "      <td>0</td>\n",
       "      <td>0</td>\n",
       "    </tr>\n",
       "  </tbody>\n",
       "</table>\n",
       "</div>"
      ],
      "text/plain": [
       "         Age  Experience  Salary  Projects  Dept_IT  Dept_Marketing  \\\n",
       "0  32.000000         9.5    13.5       0.0        0               0   \n",
       "1  33.000000        12.0    13.5       0.0        0               0   \n",
       "2  35.000000        12.0    13.5       5.0        1               0   \n",
       "3  37.333333        12.0    13.5       5.0        1               0   \n",
       "4  34.000000        11.0    13.5       2.0        0               0   \n",
       "\n",
       "   Dept_Sales  Education_Master  Education_Under_Graduate  \n",
       "0           0                 0                         1  \n",
       "1           0                 1                         0  \n",
       "2           0                 1                         0  \n",
       "3           0                 0                         0  \n",
       "4           0                 0                         0  "
      ]
     },
     "execution_count": 129,
     "metadata": {},
     "output_type": "execute_result"
    }
   ],
   "source": [
    "df14_dropdummy.head()"
   ]
  },
  {
   "cell_type": "code",
   "execution_count": 130,
   "id": "41200b9f",
   "metadata": {},
   "outputs": [
    {
     "data": {
      "text/html": [
       "<div>\n",
       "<style scoped>\n",
       "    .dataframe tbody tr th:only-of-type {\n",
       "        vertical-align: middle;\n",
       "    }\n",
       "\n",
       "    .dataframe tbody tr th {\n",
       "        vertical-align: top;\n",
       "    }\n",
       "\n",
       "    .dataframe thead th {\n",
       "        text-align: right;\n",
       "    }\n",
       "</style>\n",
       "<table border=\"1\" class=\"dataframe\">\n",
       "  <thead>\n",
       "    <tr style=\"text-align: right;\">\n",
       "      <th></th>\n",
       "      <th>Age</th>\n",
       "      <th>Experience</th>\n",
       "      <th>Salary</th>\n",
       "      <th>Projects</th>\n",
       "      <th>Dept_HR</th>\n",
       "      <th>Dept_IT</th>\n",
       "      <th>Dept_Marketing</th>\n",
       "      <th>Dept_Sales</th>\n",
       "      <th>Education_Graduate</th>\n",
       "      <th>Education_Master</th>\n",
       "      <th>Education_Under_Graduate</th>\n",
       "    </tr>\n",
       "  </thead>\n",
       "  <tbody>\n",
       "    <tr>\n",
       "      <th>Age</th>\n",
       "      <td>1.000000</td>\n",
       "      <td>0.678042</td>\n",
       "      <td>NaN</td>\n",
       "      <td>0.141343</td>\n",
       "      <td>-0.185406</td>\n",
       "      <td>-0.032352</td>\n",
       "      <td>0.350909</td>\n",
       "      <td>-0.021633</td>\n",
       "      <td>-0.003584</td>\n",
       "      <td>0.355659</td>\n",
       "      <td>-0.395660</td>\n",
       "    </tr>\n",
       "    <tr>\n",
       "      <th>Experience</th>\n",
       "      <td>0.678042</td>\n",
       "      <td>1.000000</td>\n",
       "      <td>NaN</td>\n",
       "      <td>0.317024</td>\n",
       "      <td>-0.389907</td>\n",
       "      <td>0.309805</td>\n",
       "      <td>0.270855</td>\n",
       "      <td>-0.070056</td>\n",
       "      <td>0.078619</td>\n",
       "      <td>0.266991</td>\n",
       "      <td>-0.375259</td>\n",
       "    </tr>\n",
       "    <tr>\n",
       "      <th>Salary</th>\n",
       "      <td>NaN</td>\n",
       "      <td>NaN</td>\n",
       "      <td>NaN</td>\n",
       "      <td>NaN</td>\n",
       "      <td>NaN</td>\n",
       "      <td>NaN</td>\n",
       "      <td>NaN</td>\n",
       "      <td>NaN</td>\n",
       "      <td>NaN</td>\n",
       "      <td>NaN</td>\n",
       "      <td>NaN</td>\n",
       "    </tr>\n",
       "    <tr>\n",
       "      <th>Projects</th>\n",
       "      <td>0.141343</td>\n",
       "      <td>0.317024</td>\n",
       "      <td>NaN</td>\n",
       "      <td>1.000000</td>\n",
       "      <td>-0.259574</td>\n",
       "      <td>0.367062</td>\n",
       "      <td>-0.036839</td>\n",
       "      <td>-0.041564</td>\n",
       "      <td>0.250163</td>\n",
       "      <td>0.012029</td>\n",
       "      <td>-0.254218</td>\n",
       "    </tr>\n",
       "    <tr>\n",
       "      <th>Dept_HR</th>\n",
       "      <td>-0.185406</td>\n",
       "      <td>-0.389907</td>\n",
       "      <td>NaN</td>\n",
       "      <td>-0.259574</td>\n",
       "      <td>1.000000</td>\n",
       "      <td>-0.516398</td>\n",
       "      <td>-0.339032</td>\n",
       "      <td>-0.430331</td>\n",
       "      <td>0.193649</td>\n",
       "      <td>-0.398527</td>\n",
       "      <td>0.260875</td>\n",
       "    </tr>\n",
       "    <tr>\n",
       "      <th>Dept_IT</th>\n",
       "      <td>-0.032352</td>\n",
       "      <td>0.309805</td>\n",
       "      <td>NaN</td>\n",
       "      <td>0.367062</td>\n",
       "      <td>-0.516398</td>\n",
       "      <td>1.000000</td>\n",
       "      <td>-0.210090</td>\n",
       "      <td>-0.266667</td>\n",
       "      <td>0.175000</td>\n",
       "      <td>0.158636</td>\n",
       "      <td>-0.346410</td>\n",
       "    </tr>\n",
       "    <tr>\n",
       "      <th>Dept_Marketing</th>\n",
       "      <td>0.350909</td>\n",
       "      <td>0.270855</td>\n",
       "      <td>NaN</td>\n",
       "      <td>-0.036839</td>\n",
       "      <td>-0.339032</td>\n",
       "      <td>-0.210090</td>\n",
       "      <td>1.000000</td>\n",
       "      <td>-0.175075</td>\n",
       "      <td>-0.210090</td>\n",
       "      <td>0.197040</td>\n",
       "      <td>-0.018952</td>\n",
       "    </tr>\n",
       "    <tr>\n",
       "      <th>Dept_Sales</th>\n",
       "      <td>-0.021633</td>\n",
       "      <td>-0.070056</td>\n",
       "      <td>NaN</td>\n",
       "      <td>-0.041564</td>\n",
       "      <td>-0.430331</td>\n",
       "      <td>-0.266667</td>\n",
       "      <td>-0.175075</td>\n",
       "      <td>1.000000</td>\n",
       "      <td>-0.266667</td>\n",
       "      <td>0.171499</td>\n",
       "      <td>0.064150</td>\n",
       "    </tr>\n",
       "    <tr>\n",
       "      <th>Education_Graduate</th>\n",
       "      <td>-0.003584</td>\n",
       "      <td>0.078619</td>\n",
       "      <td>NaN</td>\n",
       "      <td>0.250163</td>\n",
       "      <td>0.193649</td>\n",
       "      <td>0.175000</td>\n",
       "      <td>-0.210090</td>\n",
       "      <td>-0.266667</td>\n",
       "      <td>1.000000</td>\n",
       "      <td>-0.548795</td>\n",
       "      <td>-0.346410</td>\n",
       "    </tr>\n",
       "    <tr>\n",
       "      <th>Education_Master</th>\n",
       "      <td>0.355659</td>\n",
       "      <td>0.266991</td>\n",
       "      <td>NaN</td>\n",
       "      <td>0.012029</td>\n",
       "      <td>-0.398527</td>\n",
       "      <td>0.158636</td>\n",
       "      <td>0.197040</td>\n",
       "      <td>0.171499</td>\n",
       "      <td>-0.548795</td>\n",
       "      <td>1.000000</td>\n",
       "      <td>-0.594089</td>\n",
       "    </tr>\n",
       "    <tr>\n",
       "      <th>Education_Under_Graduate</th>\n",
       "      <td>-0.395660</td>\n",
       "      <td>-0.375259</td>\n",
       "      <td>NaN</td>\n",
       "      <td>-0.254218</td>\n",
       "      <td>0.260875</td>\n",
       "      <td>-0.346410</td>\n",
       "      <td>-0.018952</td>\n",
       "      <td>0.064150</td>\n",
       "      <td>-0.346410</td>\n",
       "      <td>-0.594089</td>\n",
       "      <td>1.000000</td>\n",
       "    </tr>\n",
       "  </tbody>\n",
       "</table>\n",
       "</div>"
      ],
      "text/plain": [
       "                               Age  Experience  Salary  Projects   Dept_HR  \\\n",
       "Age                       1.000000    0.678042     NaN  0.141343 -0.185406   \n",
       "Experience                0.678042    1.000000     NaN  0.317024 -0.389907   \n",
       "Salary                         NaN         NaN     NaN       NaN       NaN   \n",
       "Projects                  0.141343    0.317024     NaN  1.000000 -0.259574   \n",
       "Dept_HR                  -0.185406   -0.389907     NaN -0.259574  1.000000   \n",
       "Dept_IT                  -0.032352    0.309805     NaN  0.367062 -0.516398   \n",
       "Dept_Marketing            0.350909    0.270855     NaN -0.036839 -0.339032   \n",
       "Dept_Sales               -0.021633   -0.070056     NaN -0.041564 -0.430331   \n",
       "Education_Graduate       -0.003584    0.078619     NaN  0.250163  0.193649   \n",
       "Education_Master          0.355659    0.266991     NaN  0.012029 -0.398527   \n",
       "Education_Under_Graduate -0.395660   -0.375259     NaN -0.254218  0.260875   \n",
       "\n",
       "                           Dept_IT  Dept_Marketing  Dept_Sales  \\\n",
       "Age                      -0.032352        0.350909   -0.021633   \n",
       "Experience                0.309805        0.270855   -0.070056   \n",
       "Salary                         NaN             NaN         NaN   \n",
       "Projects                  0.367062       -0.036839   -0.041564   \n",
       "Dept_HR                  -0.516398       -0.339032   -0.430331   \n",
       "Dept_IT                   1.000000       -0.210090   -0.266667   \n",
       "Dept_Marketing           -0.210090        1.000000   -0.175075   \n",
       "Dept_Sales               -0.266667       -0.175075    1.000000   \n",
       "Education_Graduate        0.175000       -0.210090   -0.266667   \n",
       "Education_Master          0.158636        0.197040    0.171499   \n",
       "Education_Under_Graduate -0.346410       -0.018952    0.064150   \n",
       "\n",
       "                          Education_Graduate  Education_Master  \\\n",
       "Age                                -0.003584          0.355659   \n",
       "Experience                          0.078619          0.266991   \n",
       "Salary                                   NaN               NaN   \n",
       "Projects                            0.250163          0.012029   \n",
       "Dept_HR                             0.193649         -0.398527   \n",
       "Dept_IT                             0.175000          0.158636   \n",
       "Dept_Marketing                     -0.210090          0.197040   \n",
       "Dept_Sales                         -0.266667          0.171499   \n",
       "Education_Graduate                  1.000000         -0.548795   \n",
       "Education_Master                   -0.548795          1.000000   \n",
       "Education_Under_Graduate           -0.346410         -0.594089   \n",
       "\n",
       "                          Education_Under_Graduate  \n",
       "Age                                      -0.395660  \n",
       "Experience                               -0.375259  \n",
       "Salary                                         NaN  \n",
       "Projects                                 -0.254218  \n",
       "Dept_HR                                   0.260875  \n",
       "Dept_IT                                  -0.346410  \n",
       "Dept_Marketing                           -0.018952  \n",
       "Dept_Sales                                0.064150  \n",
       "Education_Graduate                       -0.346410  \n",
       "Education_Master                         -0.594089  \n",
       "Education_Under_Graduate                  1.000000  "
      ]
     },
     "execution_count": 130,
     "metadata": {},
     "output_type": "execute_result"
    }
   ],
   "source": [
    "df14.corr()"
   ]
  },
  {
   "cell_type": "code",
   "execution_count": 131,
   "id": "5b8feedc",
   "metadata": {},
   "outputs": [
    {
     "data": {
      "text/plain": [
       "<AxesSubplot:>"
      ]
     },
     "execution_count": 131,
     "metadata": {},
     "output_type": "execute_result"
    },
    {
     "data": {
      "image/png": "[encoded data removed]",
      "text/plain": [
       "<Figure size 1000x1000 with 2 Axes>"
      ]
     },
     "metadata": {},
     "output_type": "display_data"
    }
   ],
   "source": [
    "plt.figure(figsize=(10,10))\n",
    "sns.heatmap(df14.corr(),annot=True)"
   ]
  },
  {
   "cell_type": "code",
   "execution_count": 132,
   "id": "a14cb904",
   "metadata": {},
   "outputs": [
    {
     "data": {
      "text/html": [
       "<div>\n",
       "<style scoped>\n",
       "    .dataframe tbody tr th:only-of-type {\n",
       "        vertical-align: middle;\n",
       "    }\n",
       "\n",
       "    .dataframe tbody tr th {\n",
       "        vertical-align: top;\n",
       "    }\n",
       "\n",
       "    .dataframe thead th {\n",
       "        text-align: right;\n",
       "    }\n",
       "</style>\n",
       "<table border=\"1\" class=\"dataframe\">\n",
       "  <thead>\n",
       "    <tr style=\"text-align: right;\">\n",
       "      <th></th>\n",
       "      <th>Age</th>\n",
       "      <th>Experience</th>\n",
       "      <th>Salary</th>\n",
       "      <th>Projects</th>\n",
       "      <th>Dept_IT</th>\n",
       "      <th>Dept_Marketing</th>\n",
       "      <th>Dept_Sales</th>\n",
       "      <th>Education_Master</th>\n",
       "      <th>Education_Under_Graduate</th>\n",
       "    </tr>\n",
       "  </thead>\n",
       "  <tbody>\n",
       "    <tr>\n",
       "      <th>Age</th>\n",
       "      <td>1.000000</td>\n",
       "      <td>0.678042</td>\n",
       "      <td>NaN</td>\n",
       "      <td>0.141343</td>\n",
       "      <td>-0.032352</td>\n",
       "      <td>0.350909</td>\n",
       "      <td>-0.021633</td>\n",
       "      <td>0.355659</td>\n",
       "      <td>-0.395660</td>\n",
       "    </tr>\n",
       "    <tr>\n",
       "      <th>Experience</th>\n",
       "      <td>0.678042</td>\n",
       "      <td>1.000000</td>\n",
       "      <td>NaN</td>\n",
       "      <td>0.317024</td>\n",
       "      <td>0.309805</td>\n",
       "      <td>0.270855</td>\n",
       "      <td>-0.070056</td>\n",
       "      <td>0.266991</td>\n",
       "      <td>-0.375259</td>\n",
       "    </tr>\n",
       "    <tr>\n",
       "      <th>Salary</th>\n",
       "      <td>NaN</td>\n",
       "      <td>NaN</td>\n",
       "      <td>NaN</td>\n",
       "      <td>NaN</td>\n",
       "      <td>NaN</td>\n",
       "      <td>NaN</td>\n",
       "      <td>NaN</td>\n",
       "      <td>NaN</td>\n",
       "      <td>NaN</td>\n",
       "    </tr>\n",
       "    <tr>\n",
       "      <th>Projects</th>\n",
       "      <td>0.141343</td>\n",
       "      <td>0.317024</td>\n",
       "      <td>NaN</td>\n",
       "      <td>1.000000</td>\n",
       "      <td>0.367062</td>\n",
       "      <td>-0.036839</td>\n",
       "      <td>-0.041564</td>\n",
       "      <td>0.012029</td>\n",
       "      <td>-0.254218</td>\n",
       "    </tr>\n",
       "    <tr>\n",
       "      <th>Dept_IT</th>\n",
       "      <td>-0.032352</td>\n",
       "      <td>0.309805</td>\n",
       "      <td>NaN</td>\n",
       "      <td>0.367062</td>\n",
       "      <td>1.000000</td>\n",
       "      <td>-0.210090</td>\n",
       "      <td>-0.266667</td>\n",
       "      <td>0.158636</td>\n",
       "      <td>-0.346410</td>\n",
       "    </tr>\n",
       "    <tr>\n",
       "      <th>Dept_Marketing</th>\n",
       "      <td>0.350909</td>\n",
       "      <td>0.270855</td>\n",
       "      <td>NaN</td>\n",
       "      <td>-0.036839</td>\n",
       "      <td>-0.210090</td>\n",
       "      <td>1.000000</td>\n",
       "      <td>-0.175075</td>\n",
       "      <td>0.197040</td>\n",
       "      <td>-0.018952</td>\n",
       "    </tr>\n",
       "    <tr>\n",
       "      <th>Dept_Sales</th>\n",
       "      <td>-0.021633</td>\n",
       "      <td>-0.070056</td>\n",
       "      <td>NaN</td>\n",
       "      <td>-0.041564</td>\n",
       "      <td>-0.266667</td>\n",
       "      <td>-0.175075</td>\n",
       "      <td>1.000000</td>\n",
       "      <td>0.171499</td>\n",
       "      <td>0.064150</td>\n",
       "    </tr>\n",
       "    <tr>\n",
       "      <th>Education_Master</th>\n",
       "      <td>0.355659</td>\n",
       "      <td>0.266991</td>\n",
       "      <td>NaN</td>\n",
       "      <td>0.012029</td>\n",
       "      <td>0.158636</td>\n",
       "      <td>0.197040</td>\n",
       "      <td>0.171499</td>\n",
       "      <td>1.000000</td>\n",
       "      <td>-0.594089</td>\n",
       "    </tr>\n",
       "    <tr>\n",
       "      <th>Education_Under_Graduate</th>\n",
       "      <td>-0.395660</td>\n",
       "      <td>-0.375259</td>\n",
       "      <td>NaN</td>\n",
       "      <td>-0.254218</td>\n",
       "      <td>-0.346410</td>\n",
       "      <td>-0.018952</td>\n",
       "      <td>0.064150</td>\n",
       "      <td>-0.594089</td>\n",
       "      <td>1.000000</td>\n",
       "    </tr>\n",
       "  </tbody>\n",
       "</table>\n",
       "</div>"
      ],
      "text/plain": [
       "                               Age  Experience  Salary  Projects   Dept_IT  \\\n",
       "Age                       1.000000    0.678042     NaN  0.141343 -0.032352   \n",
       "Experience                0.678042    1.000000     NaN  0.317024  0.309805   \n",
       "Salary                         NaN         NaN     NaN       NaN       NaN   \n",
       "Projects                  0.141343    0.317024     NaN  1.000000  0.367062   \n",
       "Dept_IT                  -0.032352    0.309805     NaN  0.367062  1.000000   \n",
       "Dept_Marketing            0.350909    0.270855     NaN -0.036839 -0.210090   \n",
       "Dept_Sales               -0.021633   -0.070056     NaN -0.041564 -0.266667   \n",
       "Education_Master          0.355659    0.266991     NaN  0.012029  0.158636   \n",
       "Education_Under_Graduate -0.395660   -0.375259     NaN -0.254218 -0.346410   \n",
       "\n",
       "                          Dept_Marketing  Dept_Sales  Education_Master  \\\n",
       "Age                             0.350909   -0.021633          0.355659   \n",
       "Experience                      0.270855   -0.070056          0.266991   \n",
       "Salary                               NaN         NaN               NaN   \n",
       "Projects                       -0.036839   -0.041564          0.012029   \n",
       "Dept_IT                        -0.210090   -0.266667          0.158636   \n",
       "Dept_Marketing                  1.000000   -0.175075          0.197040   \n",
       "Dept_Sales                     -0.175075    1.000000          0.171499   \n",
       "Education_Master                0.197040    0.171499          1.000000   \n",
       "Education_Under_Graduate       -0.018952    0.064150         -0.594089   \n",
       "\n",
       "                          Education_Under_Graduate  \n",
       "Age                                      -0.395660  \n",
       "Experience                               -0.375259  \n",
       "Salary                                         NaN  \n",
       "Projects                                 -0.254218  \n",
       "Dept_IT                                  -0.346410  \n",
       "Dept_Marketing                           -0.018952  \n",
       "Dept_Sales                                0.064150  \n",
       "Education_Master                         -0.594089  \n",
       "Education_Under_Graduate                  1.000000  "
      ]
     },
     "execution_count": 132,
     "metadata": {},
     "output_type": "execute_result"
    }
   ],
   "source": [
    "df14_dropdummy.corr()"
   ]
  },
  {
   "cell_type": "code",
   "execution_count": null,
   "id": "cca34443",
   "metadata": {},
   "outputs": [],
   "source": []
  },
  {
   "cell_type": "code",
   "execution_count": null,
   "id": "75239efb",
   "metadata": {},
   "outputs": [],
   "source": []
  }
 ],
 "metadata": {
  "kernelspec": {
   "display_name": "Python 3 (ipykernel)",
   "language": "python",
   "name": "python3"
  },
  "language_info": {
   "codemirror_mode": {
    "name": "ipython",
    "version": 3
   },
   "file_extension": ".py",
   "mimetype": "text/x-python",
   "name": "python",
   "nbconvert_exporter": "python",
   "pygments_lexer": "ipython3",
   "version": "3.9.13"
  }
 },
 "nbformat": 4,
 "nbformat_minor": 5
}
